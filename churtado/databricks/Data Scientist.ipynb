{
 "cells": [
  {
   "cell_type": "markdown",
   "metadata": {},
   "source": [
    "This notebook looks to replicate the tutorial material from databrick's own tutorials, only using open source libraries and tools.  \n",
    "  \n",
    "Below is a list of the tools used."
   ]
  },
  {
   "cell_type": "markdown",
   "metadata": {},
   "source": [
    "http://192.168.1.123:8998  \n",
    "Livy Server: http://192.168.1.123:8998/ui  \n",
    "Spark Master: http://192.168.1.123:8080/  \n",
    "Spark Magic: https://github.com/jupyter-incubator/sparkmagic/blob/master/examples/Magics%20in%20IPython%20Kernel.ipynb  "
   ]
  },
  {
   "cell_type": "markdown",
   "metadata": {},
   "source": [
    "Let's load up sparkmagic to be able to communicate without spark cluster"
   ]
  },
  {
   "cell_type": "code",
   "execution_count": 1,
   "metadata": {},
   "outputs": [],
   "source": [
    "%load_ext sparkmagic.magics"
   ]
  },
  {
   "cell_type": "markdown",
   "metadata": {},
   "source": [
    "Now let's configure our connection"
   ]
  },
  {
   "cell_type": "code",
   "execution_count": 2,
   "metadata": {},
   "outputs": [
    {
     "data": {
      "application/vnd.jupyter.widget-view+json": {
       "model_id": "4bcadae49d4c479384d37f3d6eff72ac",
       "version_major": 2,
       "version_minor": 0
      },
      "text/plain": [
       "TWFnaWNzQ29udHJvbGxlcldpZGdldChjaGlsZHJlbj0oVGFiKGNoaWxkcmVuPShNYW5hZ2VTZXNzaW9uV2lkZ2V0KGNoaWxkcmVuPShIVE1MKHZhbHVlPXUnPGJyLz4nKSwgSFRNTCh2YWx1ZT3igKY=\n"
      ]
     },
     "metadata": {},
     "output_type": "display_data"
    },
    {
     "name": "stdout",
     "output_type": "stream",
     "text": [
      "Added endpoint http://192.168.1.123:8998/\n",
      "Starting Spark application\n"
     ]
    },
    {
     "data": {
      "text/html": [
       "<table>\n",
       "<tr><th>ID</th><th>YARN Application ID</th><th>Kind</th><th>State</th><th>Spark UI</th><th>Driver log</th><th>Current session?</th></tr><tr><td>2</td><td>None</td><td>spark</td><td>idle</td><td></td><td></td><td>✔</td></tr></table>"
      ],
      "text/plain": [
       "<IPython.core.display.HTML object>"
      ]
     },
     "metadata": {},
     "output_type": "display_data"
    },
    {
     "name": "stdout",
     "output_type": "stream",
     "text": [
      "SparkSession available as 'spark'.\n"
     ]
    }
   ],
   "source": [
    "%manage_spark"
   ]
  },
  {
   "cell_type": "markdown",
   "metadata": {},
   "source": [
    "Let's read the data used in the tutorial"
   ]
  },
  {
   "cell_type": "code",
   "execution_count": 3,
   "metadata": {},
   "outputs": [
    {
     "name": "stdout",
     "output_type": "stream",
     "text": [
      "warning: there was one deprecation warning; re-run with -deprecation for details\n",
      "sqlContext: org.apache.spark.sql.SQLContext = org.apache.spark.sql.SQLContext@1a54232e\n",
      "marketsFile: org.apache.spark.rdd.RDD[String] = file:///home/churtado/notebooks/data/farmers_market.csv MapPartitionsRDD[1] at textFile at <console>:26\n",
      "taxes2013: org.apache.spark.sql.DataFrame = [STATEFIPS: string, STATE: string ... 112 more fields]\n",
      "markets: org.apache.spark.sql.DataFrame = [FMID: string, MarketName: string ... 57 more fields]\n"
     ]
    }
   ],
   "source": [
    "%%spark\n",
    "val sqlContext = new org.apache.spark.sql.SQLContext(sc)\n",
    "\n",
    "val marketsFile = sc.textFile(\"file:///home/churtado/notebooks/data/farmers_market.csv\")\n",
    "\n",
    "val taxes2013 = spark.read.format(\"csv\").option(\"header\", \"true\").load(\"file:///home/churtado/notebooks/data/zipcodes.csv\")\n",
    "taxes2013.createOrReplaceTempView(\"taxes2013\")\n",
    "val markets = spark.read.format(\"csv\").option(\"header\", \"true\").load(\"file:///home/churtado/notebooks/data/farmers_market.csv\")\n",
    "markets.createOrReplaceTempView(\"markets\")"
   ]
  },
  {
   "cell_type": "markdown",
   "metadata": {},
   "source": [
    "We can use sql magic to view the data"
   ]
  },
  {
   "cell_type": "code",
   "execution_count": 4,
   "metadata": {},
   "outputs": [
    {
     "data": {
      "text/html": [
       "<div>\n",
       "<style scoped>\n",
       "    .dataframe tbody tr th:only-of-type {\n",
       "        vertical-align: middle;\n",
       "    }\n",
       "\n",
       "    .dataframe tbody tr th {\n",
       "        vertical-align: top;\n",
       "    }\n",
       "\n",
       "    .dataframe thead th {\n",
       "        text-align: right;\n",
       "    }\n",
       "</style>\n",
       "<table border=\"1\" class=\"dataframe\">\n",
       "  <thead>\n",
       "    <tr style=\"text-align: right;\">\n",
       "      <th></th>\n",
       "      <th>database</th>\n",
       "      <th>tableName</th>\n",
       "      <th>isTemporary</th>\n",
       "    </tr>\n",
       "  </thead>\n",
       "  <tbody>\n",
       "    <tr>\n",
       "      <th>0</th>\n",
       "      <td>default</td>\n",
       "      <td>cleaned_taxes</td>\n",
       "      <td>False</td>\n",
       "    </tr>\n",
       "    <tr>\n",
       "      <th>1</th>\n",
       "      <td>default</td>\n",
       "      <td>cleaned_taxes_state</td>\n",
       "      <td>False</td>\n",
       "    </tr>\n",
       "    <tr>\n",
       "      <th>2</th>\n",
       "      <td>default</td>\n",
       "      <td>income_state</td>\n",
       "      <td>False</td>\n",
       "    </tr>\n",
       "    <tr>\n",
       "      <th>3</th>\n",
       "      <td></td>\n",
       "      <td>markets</td>\n",
       "      <td>True</td>\n",
       "    </tr>\n",
       "    <tr>\n",
       "      <th>4</th>\n",
       "      <td></td>\n",
       "      <td>taxes2013</td>\n",
       "      <td>True</td>\n",
       "    </tr>\n",
       "  </tbody>\n",
       "</table>\n",
       "</div>"
      ],
      "text/plain": [
       "  database            tableName  isTemporary\n",
       "0  default        cleaned_taxes        False\n",
       "1  default  cleaned_taxes_state        False\n",
       "2  default         income_state        False\n",
       "3                       markets         True\n",
       "4                     taxes2013         True"
      ]
     },
     "execution_count": 4,
     "metadata": {},
     "output_type": "execute_result"
    }
   ],
   "source": [
    "%%spark -c sql\n",
    "SHOW TABLES"
   ]
  },
  {
   "cell_type": "code",
   "execution_count": 5,
   "metadata": {},
   "outputs": [],
   "source": [
    "%%spark -c sql -q -o df_markets \n",
    "SELECT * FROM markets"
   ]
  },
  {
   "cell_type": "markdown",
   "metadata": {},
   "source": [
    "We can now use pandas dataframes for the data"
   ]
  },
  {
   "cell_type": "code",
   "execution_count": 6,
   "metadata": {
    "scrolled": true
   },
   "outputs": [
    {
     "data": {
      "text/html": [
       "<div>\n",
       "<style scoped>\n",
       "    .dataframe tbody tr th:only-of-type {\n",
       "        vertical-align: middle;\n",
       "    }\n",
       "\n",
       "    .dataframe tbody tr th {\n",
       "        vertical-align: top;\n",
       "    }\n",
       "\n",
       "    .dataframe thead th {\n",
       "        text-align: right;\n",
       "    }\n",
       "</style>\n",
       "<table border=\"1\" class=\"dataframe\">\n",
       "  <thead>\n",
       "    <tr style=\"text-align: right;\">\n",
       "      <th></th>\n",
       "      <th>FMID</th>\n",
       "      <th>MarketName</th>\n",
       "      <th>Website</th>\n",
       "      <th>Facebook</th>\n",
       "      <th>city</th>\n",
       "      <th>County</th>\n",
       "      <th>State</th>\n",
       "      <th>zip</th>\n",
       "      <th>Season1Date</th>\n",
       "      <th>Season1Time</th>\n",
       "      <th>...</th>\n",
       "      <th>Tofu</th>\n",
       "      <th>WildHarvested</th>\n",
       "      <th>updateTime</th>\n",
       "      <th>street</th>\n",
       "      <th>OtherMedia</th>\n",
       "      <th>Location</th>\n",
       "      <th>Twitter</th>\n",
       "      <th>Youtube</th>\n",
       "      <th>Season3Date</th>\n",
       "      <th>Season3Time</th>\n",
       "    </tr>\n",
       "  </thead>\n",
       "  <tbody>\n",
       "    <tr>\n",
       "      <th>0</th>\n",
       "      <td>1018261</td>\n",
       "      <td>Caledonia Farmers Market Association - Danville</td>\n",
       "      <td>https://sites.google.com/site/caledoniafarmers...</td>\n",
       "      <td>https://www.facebook.com/Danville.VT.Farmers.M...</td>\n",
       "      <td>Danville</td>\n",
       "      <td>Caledonia</td>\n",
       "      <td>Vermont</td>\n",
       "      <td>05828</td>\n",
       "      <td>06/14/2017 to 08/30/2017</td>\n",
       "      <td>Wed: 9:00 AM-1:00 PM;</td>\n",
       "      <td>...</td>\n",
       "      <td>N</td>\n",
       "      <td>N</td>\n",
       "      <td>2017-06-20 22:43:57</td>\n",
       "      <td>NaN</td>\n",
       "      <td>NaN</td>\n",
       "      <td>NaN</td>\n",
       "      <td>NaN</td>\n",
       "      <td>NaN</td>\n",
       "      <td>NaN</td>\n",
       "      <td>NaN</td>\n",
       "    </tr>\n",
       "    <tr>\n",
       "      <th>1</th>\n",
       "      <td>1018318</td>\n",
       "      <td>Stearns Homestead Farmers' Market</td>\n",
       "      <td>http://www.StearnsHomestead.com</td>\n",
       "      <td>StearnsHomesteadFarmersMarket</td>\n",
       "      <td>Parma</td>\n",
       "      <td>Cuyahoga</td>\n",
       "      <td>Ohio</td>\n",
       "      <td>NaN</td>\n",
       "      <td>06/24/2017 to 09/30/2017</td>\n",
       "      <td>Sat: 9:00 AM-1:00 PM;</td>\n",
       "      <td>...</td>\n",
       "      <td>N</td>\n",
       "      <td>N</td>\n",
       "      <td>2017-06-21 17:15:01</td>\n",
       "      <td>6975 Ridge Road</td>\n",
       "      <td>NaN</td>\n",
       "      <td>NaN</td>\n",
       "      <td>NaN</td>\n",
       "      <td>NaN</td>\n",
       "      <td>NaN</td>\n",
       "      <td>NaN</td>\n",
       "    </tr>\n",
       "    <tr>\n",
       "      <th>2</th>\n",
       "      <td>1009364</td>\n",
       "      <td>106 S. Main Street Farmers Market</td>\n",
       "      <td>http://thetownofsixmile.wordpress.com/</td>\n",
       "      <td>NaN</td>\n",
       "      <td>Six Mile</td>\n",
       "      <td>NaN</td>\n",
       "      <td>South Carolina</td>\n",
       "      <td>29682</td>\n",
       "      <td>NaN</td>\n",
       "      <td>NaN</td>\n",
       "      <td>...</td>\n",
       "      <td>N</td>\n",
       "      <td>N</td>\n",
       "      <td>2013-01-01 00:00:00</td>\n",
       "      <td>106 S. Main Street</td>\n",
       "      <td>NaN</td>\n",
       "      <td>NaN</td>\n",
       "      <td>NaN</td>\n",
       "      <td>NaN</td>\n",
       "      <td>NaN</td>\n",
       "      <td>NaN</td>\n",
       "    </tr>\n",
       "  </tbody>\n",
       "</table>\n",
       "<p>3 rows × 57 columns</p>\n",
       "</div>"
      ],
      "text/plain": [
       "      FMID                                        MarketName  \\\n",
       "0  1018261   Caledonia Farmers Market Association - Danville   \n",
       "1  1018318                 Stearns Homestead Farmers' Market   \n",
       "2  1009364                 106 S. Main Street Farmers Market   \n",
       "\n",
       "                                             Website  \\\n",
       "0  https://sites.google.com/site/caledoniafarmers...   \n",
       "1                    http://www.StearnsHomestead.com   \n",
       "2             http://thetownofsixmile.wordpress.com/   \n",
       "\n",
       "                                            Facebook      city     County  \\\n",
       "0  https://www.facebook.com/Danville.VT.Farmers.M...  Danville  Caledonia   \n",
       "1                      StearnsHomesteadFarmersMarket    Parma    Cuyahoga   \n",
       "2                                                NaN  Six Mile        NaN   \n",
       "\n",
       "            State    zip               Season1Date            Season1Time  \\\n",
       "0         Vermont  05828  06/14/2017 to 08/30/2017  Wed: 9:00 AM-1:00 PM;   \n",
       "1            Ohio    NaN  06/24/2017 to 09/30/2017  Sat: 9:00 AM-1:00 PM;   \n",
       "2  South Carolina  29682                       NaN                    NaN   \n",
       "\n",
       "      ...     Tofu WildHarvested          updateTime              street  \\\n",
       "0     ...        N             N 2017-06-20 22:43:57                 NaN   \n",
       "1     ...        N             N 2017-06-21 17:15:01     6975 Ridge Road   \n",
       "2     ...        N             N 2013-01-01 00:00:00  106 S. Main Street   \n",
       "\n",
       "  OtherMedia Location Twitter Youtube Season3Date Season3Time  \n",
       "0        NaN      NaN     NaN     NaN         NaN         NaN  \n",
       "1        NaN      NaN     NaN     NaN         NaN         NaN  \n",
       "2        NaN      NaN     NaN     NaN         NaN         NaN  \n",
       "\n",
       "[3 rows x 57 columns]"
      ]
     },
     "execution_count": 6,
     "metadata": {},
     "output_type": "execute_result"
    }
   ],
   "source": [
    "df_markets.head(3)"
   ]
  },
  {
   "cell_type": "markdown",
   "metadata": {},
   "source": [
    "We can visualize the data as well"
   ]
  },
  {
   "cell_type": "code",
   "execution_count": 7,
   "metadata": {},
   "outputs": [
    {
     "data": {
      "application/vnd.jupyter.widget-view+json": {
       "model_id": "cecad616eedb4f5dbfe557228916009d",
       "version_major": 2,
       "version_minor": 0
      },
      "text/plain": [
       "VkJveChjaGlsZHJlbj0oSEJveChjaGlsZHJlbj0oSFRNTCh2YWx1ZT11J1R5cGU6JyksIEJ1dHRvbihkZXNjcmlwdGlvbj11J1RhYmxlJywgbGF5b3V0PUxheW91dCh3aWR0aD11JzcwcHgnKSzigKY=\n"
      ]
     },
     "metadata": {},
     "output_type": "display_data"
    },
    {
     "data": {
      "application/vnd.jupyter.widget-view+json": {
       "model_id": "e04c865f6bbb4648a6da128724369d79",
       "version_major": 2,
       "version_minor": 0
      },
      "text/plain": [
       "Output()"
      ]
     },
     "metadata": {},
     "output_type": "display_data"
    },
    {
     "data": {
      "application/vnd.jupyter.widget-view+json": {
       "model_id": "973679cafee244159572f5c12298f6af",
       "version_major": 2,
       "version_minor": 0
      },
      "text/plain": [
       "AutoVizWidget()"
      ]
     },
     "metadata": {},
     "output_type": "display_data"
    }
   ],
   "source": [
    "from autovizwidget.widget.utils import display_dataframe\n",
    "display_dataframe(df_markets)"
   ]
  },
  {
   "cell_type": "markdown",
   "metadata": {},
   "source": [
    "Now we're going to clean up the data with SQL"
   ]
  },
  {
   "cell_type": "code",
   "execution_count": 8,
   "metadata": {},
   "outputs": [
    {
     "data": {
      "text/html": [
       "<div>\n",
       "<style scoped>\n",
       "    .dataframe tbody tr th:only-of-type {\n",
       "        vertical-align: middle;\n",
       "    }\n",
       "\n",
       "    .dataframe tbody tr th {\n",
       "        vertical-align: top;\n",
       "    }\n",
       "\n",
       "    .dataframe thead th {\n",
       "        text-align: right;\n",
       "    }\n",
       "</style>\n",
       "<table border=\"1\" class=\"dataframe\">\n",
       "  <thead>\n",
       "    <tr style=\"text-align: right;\">\n",
       "      <th></th>\n",
       "    </tr>\n",
       "  </thead>\n",
       "  <tbody>\n",
       "  </tbody>\n",
       "</table>\n",
       "</div>"
      ],
      "text/plain": [
       "Empty DataFrame\n",
       "Columns: []\n",
       "Index: []"
      ]
     },
     "execution_count": 8,
     "metadata": {},
     "output_type": "execute_result"
    }
   ],
   "source": [
    "%%spark -c sql\n",
    "DROP TABLE IF EXISTS cleaned_taxes"
   ]
  },
  {
   "cell_type": "code",
   "execution_count": 9,
   "metadata": {
    "scrolled": true
   },
   "outputs": [],
   "source": [
    "%%spark -c sql -q -o df_cleaned_taxes\n",
    "\n",
    "CREATE TABLE cleaned_taxes AS\n",
    "SELECT state, int(zipcode / 10) as zipcode, \n",
    "  int(mars1) as single_returns, \n",
    "  int(mars2) as joint_returns, \n",
    "  int(numdep) as numdep, \n",
    "  double(A02650) as total_income_amount,\n",
    "  double(A00300) as taxable_interest_amount,\n",
    "  double(a01000) as net_capital_gains,\n",
    "  double(a00900) as biz_net_income\n",
    "FROM taxes2013"
   ]
  },
  {
   "cell_type": "markdown",
   "metadata": {},
   "source": [
    "We want to look at avg income per state"
   ]
  },
  {
   "cell_type": "code",
   "execution_count": 10,
   "metadata": {},
   "outputs": [
    {
     "data": {
      "text/html": [
       "<div>\n",
       "<style scoped>\n",
       "    .dataframe tbody tr th:only-of-type {\n",
       "        vertical-align: middle;\n",
       "    }\n",
       "\n",
       "    .dataframe tbody tr th {\n",
       "        vertical-align: top;\n",
       "    }\n",
       "\n",
       "    .dataframe thead th {\n",
       "        text-align: right;\n",
       "    }\n",
       "</style>\n",
       "<table border=\"1\" class=\"dataframe\">\n",
       "  <thead>\n",
       "    <tr style=\"text-align: right;\">\n",
       "      <th></th>\n",
       "    </tr>\n",
       "  </thead>\n",
       "  <tbody>\n",
       "  </tbody>\n",
       "</table>\n",
       "</div>"
      ],
      "text/plain": [
       "Empty DataFrame\n",
       "Columns: []\n",
       "Index: []"
      ]
     },
     "execution_count": 10,
     "metadata": {},
     "output_type": "execute_result"
    }
   ],
   "source": [
    "%%spark -c sql\n",
    "DROP TABLE IF EXISTS income_state"
   ]
  },
  {
   "cell_type": "code",
   "execution_count": 11,
   "metadata": {},
   "outputs": [],
   "source": [
    "%%spark -c sql -q \n",
    "\n",
    "CREATE TABLE income_state AS\n",
    "SELECT state, \n",
    "sum(total_income_amount) / sum(1) as total_income\n",
    "FROM cleaned_taxes\n",
    "group by state"
   ]
  },
  {
   "cell_type": "code",
   "execution_count": 12,
   "metadata": {},
   "outputs": [],
   "source": [
    "%%spark -c sql -q  -o df_income_state\n",
    "\n",
    "select * from income_state"
   ]
  },
  {
   "cell_type": "markdown",
   "metadata": {},
   "source": [
    "Let's try to plot income by state using plotly"
   ]
  },
  {
   "cell_type": "code",
   "execution_count": 13,
   "metadata": {},
   "outputs": [],
   "source": [
    "import plotly\n",
    "plotly.tools.set_credentials_file(username='churtado', api_key='iaMRV6ydU9Ove5Yfy0R7')"
   ]
  },
  {
   "cell_type": "code",
   "execution_count": 14,
   "metadata": {},
   "outputs": [
    {
     "data": {
      "text/html": [
       "<iframe id=\"igraph\" scrolling=\"no\" style=\"border:none;\" seamless=\"seamless\" src=\"https://plot.ly/~churtado/6.embed\" height=\"525px\" width=\"100%\"></iframe>"
      ],
      "text/plain": [
       "<plotly.tools.PlotlyDisplay object>"
      ]
     },
     "execution_count": 14,
     "metadata": {},
     "output_type": "execute_result"
    }
   ],
   "source": [
    "states = df_income_state[\"state\"]\n",
    "values = df_income_state[\"total_income\"]\n",
    "\n",
    "import plotly.plotly as py\n",
    "import pandas as pd\n",
    "\n",
    "data = [ dict(\n",
    "        type='choropleth',\n",
    "        autocolorscale = True,\n",
    "        locations = df_income_state['state'],\n",
    "        z = df_income_state['total_income'].astype(float),\n",
    "        locationmode = 'USA-states',\n",
    "        marker = dict(\n",
    "            line = dict (\n",
    "                color = 'rgb(255,255,255)',\n",
    "                width = 2\n",
    "            ) ),\n",
    "        colorbar = dict(\n",
    "            title = \"Total Avg Income\")\n",
    "        ) ]\n",
    "\n",
    "layout = dict(\n",
    "        title = 'Map of avg income',\n",
    "        geo = dict(\n",
    "            scope='usa',\n",
    "            projection=dict( type='albers usa' ),\n",
    "            showlakes = True,\n",
    "            lakecolor = 'rgb(255, 255, 255)'),\n",
    "             )\n",
    "    \n",
    "fig = dict( data=data, layout=layout )\n",
    "py.iplot( fig, filename='d3-cloropleth-map' )"
   ]
  },
  {
   "cell_type": "code",
   "execution_count": 15,
   "metadata": {},
   "outputs": [
    {
     "data": {
      "text/html": [
       "<div>\n",
       "<style scoped>\n",
       "    .dataframe tbody tr th:only-of-type {\n",
       "        vertical-align: middle;\n",
       "    }\n",
       "\n",
       "    .dataframe tbody tr th {\n",
       "        vertical-align: top;\n",
       "    }\n",
       "\n",
       "    .dataframe thead th {\n",
       "        text-align: right;\n",
       "    }\n",
       "</style>\n",
       "<table border=\"1\" class=\"dataframe\">\n",
       "  <thead>\n",
       "    <tr style=\"text-align: right;\">\n",
       "      <th></th>\n",
       "      <th>state</th>\n",
       "      <th>zipcode</th>\n",
       "      <th>single_returns</th>\n",
       "      <th>joint_returns</th>\n",
       "      <th>numdep</th>\n",
       "      <th>total_income_amount</th>\n",
       "      <th>taxable_interest_amount</th>\n",
       "      <th>net_capital_gains</th>\n",
       "      <th>biz_net_income</th>\n",
       "    </tr>\n",
       "  </thead>\n",
       "  <tbody>\n",
       "    <tr>\n",
       "      <th>0</th>\n",
       "      <td>TX</td>\n",
       "      <td>7924</td>\n",
       "      <td>70</td>\n",
       "      <td>90</td>\n",
       "      <td>130</td>\n",
       "      <td>6226.0</td>\n",
       "      <td>25.0</td>\n",
       "      <td>0.0</td>\n",
       "      <td>273.0</td>\n",
       "    </tr>\n",
       "    <tr>\n",
       "      <th>1</th>\n",
       "      <td>TX</td>\n",
       "      <td>7924</td>\n",
       "      <td>0</td>\n",
       "      <td>60</td>\n",
       "      <td>60</td>\n",
       "      <td>4063.0</td>\n",
       "      <td>52.0</td>\n",
       "      <td>168.0</td>\n",
       "      <td>133.0</td>\n",
       "    </tr>\n",
       "    <tr>\n",
       "      <th>2</th>\n",
       "      <td>TX</td>\n",
       "      <td>7924</td>\n",
       "      <td>0</td>\n",
       "      <td>30</td>\n",
       "      <td>40</td>\n",
       "      <td>3347.0</td>\n",
       "      <td>0.0</td>\n",
       "      <td>0.0</td>\n",
       "      <td>0.0</td>\n",
       "    </tr>\n",
       "    <tr>\n",
       "      <th>3</th>\n",
       "      <td>TX</td>\n",
       "      <td>7924</td>\n",
       "      <td>0</td>\n",
       "      <td>30</td>\n",
       "      <td>0</td>\n",
       "      <td>5660.0</td>\n",
       "      <td>40.0</td>\n",
       "      <td>0.0</td>\n",
       "      <td>0.0</td>\n",
       "    </tr>\n",
       "    <tr>\n",
       "      <th>4</th>\n",
       "      <td>TX</td>\n",
       "      <td>7924</td>\n",
       "      <td>0</td>\n",
       "      <td>0</td>\n",
       "      <td>0</td>\n",
       "      <td>0.0</td>\n",
       "      <td>0.0</td>\n",
       "      <td>0.0</td>\n",
       "      <td>0.0</td>\n",
       "    </tr>\n",
       "  </tbody>\n",
       "</table>\n",
       "</div>"
      ],
      "text/plain": [
       "  state  zipcode  single_returns  joint_returns  numdep  total_income_amount  \\\n",
       "0    TX     7924              70             90     130               6226.0   \n",
       "1    TX     7924               0             60      60               4063.0   \n",
       "2    TX     7924               0             30      40               3347.0   \n",
       "3    TX     7924               0             30       0               5660.0   \n",
       "4    TX     7924               0              0       0                  0.0   \n",
       "\n",
       "   taxable_interest_amount  net_capital_gains  biz_net_income  \n",
       "0                     25.0                0.0           273.0  \n",
       "1                     52.0              168.0           133.0  \n",
       "2                      0.0                0.0             0.0  \n",
       "3                     40.0                0.0             0.0  \n",
       "4                      0.0                0.0             0.0  "
      ]
     },
     "execution_count": 15,
     "metadata": {},
     "output_type": "execute_result"
    }
   ],
   "source": [
    "%%spark -c sql \n",
    "\n",
    "SELECT * FROM cleaned_taxes limit 5"
   ]
  },
  {
   "cell_type": "code",
   "execution_count": 16,
   "metadata": {},
   "outputs": [],
   "source": [
    "%%spark -c sql -q -o df_capital_gains\n",
    "\n",
    "SELECT zipcode AS zipcode, SUM(net_capital_gains) AS cap_gains\n",
    "FROM cleaned_taxes \n",
    "  WHERE NOT (zipcode = 0000 OR zipcode = 9999)\n",
    "GROUP BY zipcode\n",
    "ORDER BY cap_gains ASC\n",
    "LIMIT 10"
   ]
  },
  {
   "cell_type": "markdown",
   "metadata": {},
   "source": [
    "Let's look at the set of zip codes with the lowest total capital gains and plot the results."
   ]
  },
  {
   "cell_type": "code",
   "execution_count": 17,
   "metadata": {
    "scrolled": true
   },
   "outputs": [
    {
     "data": {
      "text/html": [
       "<iframe id=\"igraph\" scrolling=\"no\" style=\"border:none;\" seamless=\"seamless\" src=\"https://plot.ly/~churtado/10.embed\" height=\"525px\" width=\"100%\"></iframe>"
      ],
      "text/plain": [
       "<plotly.tools.PlotlyDisplay object>"
      ]
     },
     "execution_count": 17,
     "metadata": {},
     "output_type": "execute_result"
    }
   ],
   "source": [
    "import plotly.plotly as py\n",
    "import plotly.graph_objs as go\n",
    "\n",
    "trace1 = go.Bar(\n",
    "    x=df_capital_gains[\"zipcode\"],\n",
    "    y=df_capital_gains[\"cap_gains\"]\n",
    ")\n",
    "data = [trace1]\n",
    "layout = go.Layout(\n",
    "    xaxis=dict(\n",
    "        showgrid=False,\n",
    "        type='category',\n",
    "        zeroline=False,\n",
    "        showline=True,\n",
    "        mirror='ticks',\n",
    "        gridcolor='#bdbdbd',\n",
    "        gridwidth=1,\n",
    "        zerolinecolor='#969696',\n",
    "        zerolinewidth=4,\n",
    "        linecolor='#636363',\n",
    "        #linewidth=6\n",
    "    ),\n",
    "    yaxis=dict(\n",
    "        showgrid=False,\n",
    "        zeroline=False,\n",
    "        showline=True,\n",
    "        mirror='ticks',\n",
    "        gridcolor='#bdbdbd',\n",
    "        gridwidth=1,\n",
    "        zerolinecolor='#969696',\n",
    "        zerolinewidth=1,\n",
    "        linecolor='#636363',\n",
    "        #linewidth=6\n",
    "    )\n",
    ")\n",
    "fig = go.Figure(data=data, layout=layout)\n",
    "py.iplot(fig, filename='axes-lines')"
   ]
  },
  {
   "cell_type": "markdown",
   "metadata": {},
   "source": [
    "Let's look at a combination of capital gains and business net income to see what we find."
   ]
  },
  {
   "cell_type": "code",
   "execution_count": 18,
   "metadata": {},
   "outputs": [],
   "source": [
    "%%spark -c sql -q -o df_capital_and_business_income\n",
    "\n",
    "SELECT zipcode, \n",
    "  SUM(biz_net_income) as business_net_income, \n",
    "  SUM(net_capital_gains) as capital_gains, \n",
    "  SUM(net_capital_gains) + SUM(biz_net_income) as capital_and_business_income\n",
    "FROM cleaned_taxes \n",
    "  WHERE NOT (zipcode = 0000 OR zipcode = 9999)\n",
    "GROUP BY zipcode\n",
    "ORDER BY capital_and_business_income DESC\n",
    "LIMIT 50"
   ]
  },
  {
   "cell_type": "code",
   "execution_count": 21,
   "metadata": {},
   "outputs": [
    {
     "data": {
      "text/html": [
       "<iframe id=\"igraph\" scrolling=\"no\" style=\"border:none;\" seamless=\"seamless\" src=\"https://plot.ly/~churtado/12.embed\" height=\"525px\" width=\"100%\"></iframe>"
      ],
      "text/plain": [
       "<plotly.tools.PlotlyDisplay object>"
      ]
     },
     "execution_count": 21,
     "metadata": {},
     "output_type": "execute_result"
    }
   ],
   "source": [
    "import plotly.plotly as py\n",
    "import plotly.graph_objs as go\n",
    "\n",
    "trace1 = go.Bar(\n",
    "    x=df_capital_and_business_income[\"zipcode\"],\n",
    "    y=df_capital_and_business_income[\"business_net_income\"],\n",
    "    name='Business Net Income'\n",
    ")\n",
    "\n",
    "trace2 = go.Bar(\n",
    "    x=df_capital_and_business_income[\"zipcode\"],\n",
    "    y=df_capital_and_business_income[\"capital_gains\"],\n",
    "    name='Capital Gains'\n",
    ")\n",
    "\n",
    "trace3 = go.Bar(\n",
    "    x=df_capital_and_business_income[\"zipcode\"],\n",
    "    y=df_capital_and_business_income[\"capital_and_business_income\"],\n",
    "    name='Capital and Business Income'\n",
    ")\n",
    "\n",
    "data = [trace1, trace2, trace3]\n",
    "layout = go.Layout(\n",
    "    barmode='group',\n",
    "    xaxis=dict(\n",
    "        showgrid=False,\n",
    "        type='category',\n",
    "        zeroline=False,\n",
    "        showline=True,\n",
    "        mirror='ticks',\n",
    "        gridcolor='#bdbdbd',\n",
    "        gridwidth=1,\n",
    "        zerolinecolor='#969696',\n",
    "        zerolinewidth=4,\n",
    "        linecolor='#636363',\n",
    "        #linewidth=6\n",
    "    ),\n",
    "    yaxis=dict(\n",
    "        showgrid=False,\n",
    "        zeroline=False,\n",
    "        showline=True,\n",
    "        mirror='ticks',\n",
    "        gridcolor='#bdbdbd',\n",
    "        gridwidth=1,\n",
    "        zerolinecolor='#969696',\n",
    "        zerolinewidth=1,\n",
    "        linecolor='#636363',\n",
    "        #linewidth=6\n",
    "    )\n",
    ")\n",
    "fig = go.Figure(data=data, layout=layout)\n",
    "py.iplot(fig, filename='kpis')"
   ]
  },
  {
   "cell_type": "markdown",
   "metadata": {},
   "source": [
    "If we want to see how a query will run we can look at the plan"
   ]
  },
  {
   "cell_type": "code",
   "execution_count": 56,
   "metadata": {},
   "outputs": [],
   "source": [
    "%%spark -c sql -q -o df_explain_plan\n",
    "EXPLAIN \n",
    "  SELECT zipcode, \n",
    "    SUM(biz_net_income) as net_income, \n",
    "    SUM(net_capital_gains) as cap_gains, \n",
    "    SUM(net_capital_gains) + SUM(biz_net_income) as combo\n",
    "  FROM cleaned_taxes \n",
    "  WHERE NOT (zipcode = 0000 OR zipcode = 9999)\n",
    "  GROUP BY zipcode\n",
    "  ORDER BY combo desc\n",
    "  limit 50"
   ]
  },
  {
   "cell_type": "code",
   "execution_count": 55,
   "metadata": {},
   "outputs": [
    {
     "name": "stdout",
     "output_type": "stream",
     "text": [
      "0    == Physical Plan ==\n",
      "TakeOrderedAndProject(limit=50, orderBy=[combo#809 DESC NULLS LAST], output=[zipcode#813,net_income#807,cap_gains#808,combo#809])\n",
      "+- *(2) HashAggregate(keys=[zipcode#813], functions=[sum(biz_net_income#820), sum(net_capital_gains#819)])\n",
      "   +- Exchange hashpartitioning(zipcode#813, 200)\n",
      "      +- *(1) HashAggregate(keys=[zipcode#813], functions=[partial_sum(biz_net_income#820), partial_sum(net_capital_gains#819)])\n",
      "         +- *(1) Filter ((isnotnull(zipcode#813) && NOT (zipcode#813 = 0)) && NOT (zipcode#813 = 9999))\n",
      "            +- HiveTableScan [zipcode#813, net_capital_gains#819, biz_net_income#820], HiveTableRelation `default`.`cleaned_taxes`, org.apache.hadoop.hive.serde2.lazy.LazySimpleSerDe, [state#812, zipcode#813, single_returns#814, joint_returns#815, numdep#816, total_income_amount#817, taxable_interest_amount#818, net_capital_gains#819, biz_net_income#820]"
     ]
    }
   ],
   "source": [
    "import sys\n",
    "\n",
    "pd.set_option(\"display.max_colwidth\", 10000)\n",
    "plan = df_explain_plan[\"plan\"].to_string().replace('\\\\n', '\\n')\n",
    "sys.stdout.write(plan)"
   ]
  },
  {
   "cell_type": "markdown",
   "metadata": {},
   "source": [
    "We can cache the table in memory. If we do it with SQL it's done eagerly, and with the API lazily"
   ]
  },
  {
   "cell_type": "code",
   "execution_count": 57,
   "metadata": {},
   "outputs": [
    {
     "name": "stdout",
     "output_type": "stream",
     "text": [
      "res21: org.apache.spark.sql.Dataset[org.apache.spark.sql.Row] = [state: string, zipcode: int ... 7 more fields]\n"
     ]
    }
   ],
   "source": [
    "%%spark\n",
    "spark.table(\"cleaned_taxes\").cache()"
   ]
  },
  {
   "cell_type": "code",
   "execution_count": 58,
   "metadata": {},
   "outputs": [
    {
     "data": {
      "text/html": [
       "<div>\n",
       "<style scoped>\n",
       "    .dataframe tbody tr th:only-of-type {\n",
       "        vertical-align: middle;\n",
       "    }\n",
       "\n",
       "    .dataframe tbody tr th {\n",
       "        vertical-align: top;\n",
       "    }\n",
       "\n",
       "    .dataframe thead th {\n",
       "        text-align: right;\n",
       "    }\n",
       "</style>\n",
       "<table border=\"1\" class=\"dataframe\">\n",
       "  <thead>\n",
       "    <tr style=\"text-align: right;\">\n",
       "      <th></th>\n",
       "    </tr>\n",
       "  </thead>\n",
       "  <tbody>\n",
       "  </tbody>\n",
       "</table>\n",
       "</div>"
      ],
      "text/plain": [
       "Empty DataFrame\n",
       "Columns: []\n",
       "Index: []"
      ]
     },
     "execution_count": 58,
     "metadata": {},
     "output_type": "execute_result"
    }
   ],
   "source": [
    "%%spark -c sql \n",
    "\n",
    "CACHE TABLE cleaned_taxes"
   ]
  },
  {
   "cell_type": "markdown",
   "metadata": {},
   "source": [
    "If we query it now, the query will be faster"
   ]
  },
  {
   "cell_type": "code",
   "execution_count": 61,
   "metadata": {},
   "outputs": [],
   "source": [
    "%%spark -c sql  -q \n",
    "\n",
    "SELECT zipcode, \n",
    "  SUM(biz_net_income) as net_income, \n",
    "  SUM(net_capital_gains) as cap_gains, \n",
    "  SUM(net_capital_gains) + SUM(biz_net_income) as combo\n",
    "FROM cleaned_taxes \n",
    "  WHERE NOT (zipcode = 0000 OR zipcode = 9999)\n",
    "GROUP BY zipcode\n",
    "ORDER BY combo desc\n",
    "limit 50"
   ]
  },
  {
   "cell_type": "markdown",
   "metadata": {},
   "source": [
    "This will have a different explain plan"
   ]
  },
  {
   "cell_type": "code",
   "execution_count": 62,
   "metadata": {},
   "outputs": [],
   "source": [
    "%%spark -c sql -q -o df_explain_plan2\n",
    "EXPLAIN \n",
    "  SELECT zipcode, \n",
    "    SUM(biz_net_income) as net_income, \n",
    "    SUM(net_capital_gains) as cap_gains, \n",
    "    SUM(net_capital_gains) + SUM(biz_net_income) as combo\n",
    "  FROM cleaned_taxes \n",
    "  WHERE NOT (zipcode = 0000 OR zipcode = 9999)\n",
    "  GROUP BY zipcode\n",
    "  ORDER BY combo desc\n",
    "  limit 50"
   ]
  },
  {
   "cell_type": "code",
   "execution_count": 63,
   "metadata": {},
   "outputs": [
    {
     "name": "stdout",
     "output_type": "stream",
     "text": [
      "0    == Physical Plan ==\n",
      "TakeOrderedAndProject(limit=50, orderBy=[combo#1183 DESC NULLS LAST], output=[zipcode#1188,net_income#1181,cap_gains#1182,combo#1183])\n",
      "+- *(2) HashAggregate(keys=[zipcode#1188], functions=[sum(biz_net_income#1195), sum(net_capital_gains#1194)])\n",
      "   +- Exchange hashpartitioning(zipcode#1188, 200)\n",
      "      +- *(1) HashAggregate(keys=[zipcode#1188], functions=[partial_sum(biz_net_income#1195), partial_sum(net_capital_gains#1194)])\n",
      "         +- *(1) Filter ((isnotnull(zipcode#1188) && NOT (zipcode#1188 = 0)) && NOT (zipcode#1188 = 9999))\n",
      "            +- InMemoryTableScan [zipcode#1188, net_capital_gains#1194, biz_net_income#1195], [isnotnull(zipcode#1188), NOT (zipcode#1188 = 0), NOT (zipcode#1188 = 9999)]\n",
      "                  +- InMemoryRelation [state#1187, zipcode#1188, single_returns#1189, joint_returns#1190, numdep#1191, total_income_amount#1192, taxable_interest_amount#1193, net_capital_gains#1194, biz_net_income#1195], true, 10000, StorageLevel(disk, memory, deserialized, 1 replicas)\n",
      "                        +- HiveTableScan [state#865, zipcode#866, single_returns#867, joint_returns#868, numdep#869, total_income_amount#870, taxable_interest_amount#871, net_capital_gains#872, biz_net_income#873], HiveTableRelation `default`.`cleaned_taxes`, org.apache.hadoop.hive.serde2.lazy.LazySimpleSerDe, [state#865, zipcode#866, single_returns#867, joint_returns#868, numdep#869, total_income_amount#870, taxable_interest_amount#871, net_capital_gains#872, biz_net_income#873]"
     ]
    }
   ],
   "source": [
    "import sys\n",
    "\n",
    "pd.set_option(\"display.max_colwidth\", 10000)\n",
    "plan = df_explain_plan2[\"plan\"].to_string().replace('\\\\n', '\\n')\n",
    "sys.stdout.write(plan)"
   ]
  },
  {
   "cell_type": "markdown",
   "metadata": {},
   "source": [
    "Now let's look at the farmer's market data"
   ]
  },
  {
   "cell_type": "code",
   "execution_count": 67,
   "metadata": {},
   "outputs": [],
   "source": [
    "%%spark -c sql -q -o df_markets\n",
    "SELECT state, count(*) as count FROM markets GROUP BY state"
   ]
  },
  {
   "cell_type": "code",
   "execution_count": 68,
   "metadata": {},
   "outputs": [
    {
     "data": {
      "text/html": [
       "<iframe id=\"igraph\" scrolling=\"no\" style=\"border:none;\" seamless=\"seamless\" src=\"https://plot.ly/~churtado/14.embed\" height=\"525px\" width=\"100%\"></iframe>"
      ],
      "text/plain": [
       "<plotly.tools.PlotlyDisplay object>"
      ]
     },
     "execution_count": 68,
     "metadata": {},
     "output_type": "execute_result"
    }
   ],
   "source": [
    "import plotly.plotly as py\n",
    "import plotly.graph_objs as go\n",
    "\n",
    "trace1 = go.Bar(\n",
    "    x=df_markets[\"state\"],\n",
    "    y=df_markets[\"count\"]\n",
    ")\n",
    "data = [trace1]\n",
    "layout = go.Layout(\n",
    "    xaxis=dict(\n",
    "        showgrid=False,\n",
    "        type='category',\n",
    "        zeroline=False,\n",
    "        showline=True,\n",
    "        mirror='ticks',\n",
    "        gridcolor='#bdbdbd',\n",
    "        gridwidth=1,\n",
    "        zerolinecolor='#969696',\n",
    "        zerolinewidth=4,\n",
    "        linecolor='#636363',\n",
    "        #linewidth=6\n",
    "    ),\n",
    "    yaxis=dict(\n",
    "        showgrid=False,\n",
    "        zeroline=False,\n",
    "        showline=True,\n",
    "        mirror='ticks',\n",
    "        gridcolor='#bdbdbd',\n",
    "        gridwidth=1,\n",
    "        zerolinecolor='#969696',\n",
    "        zerolinewidth=1,\n",
    "        linecolor='#636363',\n",
    "        #linewidth=6\n",
    "    )\n",
    ")\n",
    "fig = go.Figure(data=data, layout=layout)\n",
    "py.iplot(fig, filename='markets1')"
   ]
  },
  {
   "cell_type": "markdown",
   "metadata": {},
   "source": [
    "We could explore more, but fuck it. Let's do some machine learning. Basically our categorical values will have to be converted to numerics"
   ]
  },
  {
   "cell_type": "code",
   "execution_count": 70,
   "metadata": {},
   "outputs": [
    {
     "name": "stdout",
     "output_type": "stream",
     "text": [
      "cleanedTaxes: org.apache.spark.sql.DataFrame = [state: string, zipcode: int ... 7 more fields]\n",
      "summedTaxes: org.apache.spark.sql.DataFrame = [zipcode: int, sum(zipcode): bigint ... 7 more fields]\n",
      "cleanedMarkets: org.apache.spark.sql.DataFrame = [count: double, zip: int]\n",
      "joined: org.apache.spark.sql.DataFrame = [count: double, zip: int ... 9 more fields]\n"
     ]
    }
   ],
   "source": [
    "%%spark\n",
    "\n",
    "val cleanedTaxes = spark.sql(\"SELECT * FROM cleaned_taxes\")\n",
    "\n",
    "val summedTaxes = cleanedTaxes.groupBy(\"zipcode\").sum()\n",
    "\n",
    "// selectExpr is short for Select Expression, basically running a select on SQL\n",
    "val cleanedMarkets = markets.selectExpr(\"*\", \"int(zip / 10) as zipcode\").groupBy(\"zipcode\").count().selectExpr(\"double(count) as count\", \"zipcode as zip\")\n",
    "\n",
    "val joined = cleanedMarkets.join(summedTaxes, cleanedMarkets(\"zip\") === summedTaxes(\"zipcode\"), \"outer\")\n",
    "\n",
    "joined."
   ]
  },
  {
   "cell_type": "code",
   "execution_count": 73,
   "metadata": {},
   "outputs": [],
   "source": [
    "%%spark\n",
    "\n",
    "joined.createOrReplaceTempView(\"joined\")"
   ]
  },
  {
   "cell_type": "markdown",
   "metadata": {},
   "source": [
    "MLLIB doesn't accept null values, so we'll convert our nulls to zeros"
   ]
  },
  {
   "cell_type": "code",
   "execution_count": 77,
   "metadata": {},
   "outputs": [
    {
     "name": "stdout",
     "output_type": "stream",
     "text": [
      "prepped: org.apache.spark.sql.DataFrame = [count: double, zip: int ... 9 more fields]\n"
     ]
    }
   ],
   "source": [
    "%%spark\n",
    "val prepped = joined.na.fill(0)\n",
    "prepped.createOrReplaceTempView(\"prepped\")"
   ]
  },
  {
   "cell_type": "code",
   "execution_count": 78,
   "metadata": {},
   "outputs": [
    {
     "data": {
      "text/html": [
       "<div>\n",
       "<style scoped>\n",
       "    .dataframe tbody tr th:only-of-type {\n",
       "        vertical-align: middle;\n",
       "    }\n",
       "\n",
       "    .dataframe tbody tr th {\n",
       "        vertical-align: top;\n",
       "    }\n",
       "\n",
       "    .dataframe thead th {\n",
       "        text-align: right;\n",
       "    }\n",
       "</style>\n",
       "<table border=\"1\" class=\"dataframe\">\n",
       "  <thead>\n",
       "    <tr style=\"text-align: right;\">\n",
       "      <th></th>\n",
       "      <th>count</th>\n",
       "      <th>zip</th>\n",
       "      <th>zipcode</th>\n",
       "      <th>sum(zipcode)</th>\n",
       "      <th>sum(single_returns)</th>\n",
       "      <th>sum(joint_returns)</th>\n",
       "      <th>sum(numdep)</th>\n",
       "      <th>sum(total_income_amount)</th>\n",
       "      <th>sum(taxable_interest_amount)</th>\n",
       "      <th>sum(net_capital_gains)</th>\n",
       "      <th>sum(biz_net_income)</th>\n",
       "    </tr>\n",
       "  </thead>\n",
       "  <tbody>\n",
       "    <tr>\n",
       "      <th>0</th>\n",
       "      <td>0.0</td>\n",
       "      <td>0</td>\n",
       "      <td>463</td>\n",
       "      <td>8334</td>\n",
       "      <td>930</td>\n",
       "      <td>840</td>\n",
       "      <td>980</td>\n",
       "      <td>82700.0</td>\n",
       "      <td>460.0</td>\n",
       "      <td>825.0</td>\n",
       "      <td>4409.0</td>\n",
       "    </tr>\n",
       "    <tr>\n",
       "      <th>1</th>\n",
       "      <td>2.0</td>\n",
       "      <td>496</td>\n",
       "      <td>496</td>\n",
       "      <td>17856</td>\n",
       "      <td>3290</td>\n",
       "      <td>3250</td>\n",
       "      <td>4150</td>\n",
       "      <td>357071.0</td>\n",
       "      <td>1540.0</td>\n",
       "      <td>5704.0</td>\n",
       "      <td>10969.0</td>\n",
       "    </tr>\n",
       "    <tr>\n",
       "      <th>2</th>\n",
       "      <td>0.0</td>\n",
       "      <td>0</td>\n",
       "      <td>833</td>\n",
       "      <td>9996</td>\n",
       "      <td>14000</td>\n",
       "      <td>9490</td>\n",
       "      <td>19940</td>\n",
       "      <td>1497553.0</td>\n",
       "      <td>7747.0</td>\n",
       "      <td>12788.0</td>\n",
       "      <td>32485.0</td>\n",
       "    </tr>\n",
       "    <tr>\n",
       "      <th>3</th>\n",
       "      <td>1.0</td>\n",
       "      <td>1342</td>\n",
       "      <td>1342</td>\n",
       "      <td>40260</td>\n",
       "      <td>4800</td>\n",
       "      <td>3680</td>\n",
       "      <td>5450</td>\n",
       "      <td>475283.0</td>\n",
       "      <td>2919.0</td>\n",
       "      <td>6476.0</td>\n",
       "      <td>13496.0</td>\n",
       "    </tr>\n",
       "    <tr>\n",
       "      <th>4</th>\n",
       "      <td>1.0</td>\n",
       "      <td>1580</td>\n",
       "      <td>1580</td>\n",
       "      <td>9480</td>\n",
       "      <td>4600</td>\n",
       "      <td>3940</td>\n",
       "      <td>4650</td>\n",
       "      <td>516516.0</td>\n",
       "      <td>4243.0</td>\n",
       "      <td>10827.0</td>\n",
       "      <td>22441.0</td>\n",
       "    </tr>\n",
       "  </tbody>\n",
       "</table>\n",
       "</div>"
      ],
      "text/plain": [
       "   count   zip  zipcode  sum(zipcode)  sum(single_returns)  \\\n",
       "0    0.0     0      463          8334                  930   \n",
       "1    2.0   496      496         17856                 3290   \n",
       "2    0.0     0      833          9996                14000   \n",
       "3    1.0  1342     1342         40260                 4800   \n",
       "4    1.0  1580     1580          9480                 4600   \n",
       "\n",
       "   sum(joint_returns)  sum(numdep)  sum(total_income_amount)  \\\n",
       "0                 840          980                   82700.0   \n",
       "1                3250         4150                  357071.0   \n",
       "2                9490        19940                 1497553.0   \n",
       "3                3680         5450                  475283.0   \n",
       "4                3940         4650                  516516.0   \n",
       "\n",
       "   sum(taxable_interest_amount)  sum(net_capital_gains)  sum(biz_net_income)  \n",
       "0                         460.0                   825.0               4409.0  \n",
       "1                        1540.0                  5704.0              10969.0  \n",
       "2                        7747.0                 12788.0              32485.0  \n",
       "3                        2919.0                  6476.0              13496.0  \n",
       "4                        4243.0                 10827.0              22441.0  "
      ]
     },
     "execution_count": 78,
     "metadata": {},
     "output_type": "execute_result"
    }
   ],
   "source": [
    "%%spark -c sql\n",
    "select * from prepped limit 5"
   ]
  },
  {
   "cell_type": "markdown",
   "metadata": {},
   "source": [
    "Data is ready, lets conver into a vector type, so we can embed a prediction into it easily. We'll remove what isn't a feature"
   ]
  },
  {
   "cell_type": "code",
   "execution_count": 79,
   "metadata": {},
   "outputs": [
    {
     "name": "stdout",
     "output_type": "stream",
     "text": [
      "nonFeatureCols: Array[String] = Array(zip, zipcode, count)\n",
      "featureCols: Array[String] = Array(sum(zipcode), sum(single_returns), sum(joint_returns), sum(numdep), sum(total_income_amount), sum(taxable_interest_amount), sum(net_capital_gains), sum(biz_net_income))\n"
     ]
    }
   ],
   "source": [
    "%%spark\n",
    "\n",
    "val nonFeatureCols = Array(\"zip\", \"zipcode\", \"count\")\n",
    "val featureCols = prepped.columns.diff(nonFeatureCols)"
   ]
  },
  {
   "cell_type": "markdown",
   "metadata": {},
   "source": [
    "Now we use VectorAssembler so all columns go in a single vector: set up the input and output columns"
   ]
  },
  {
   "cell_type": "markdown",
   "metadata": {},
   "source": [
    "Now I'm going to use the VectorAssembler in Apache Spark to Assemble all of these columns into one single vector. To do this I'll have to set the input columns and output column. Then I'll use that assembler to transform the prepped data to my final dataset."
   ]
  },
  {
   "cell_type": "code",
   "execution_count": 81,
   "metadata": {},
   "outputs": [
    {
     "name": "stdout",
     "output_type": "stream",
     "text": [
      "import org.apache.spark.ml.feature.VectorAssembler\n",
      "assembler: org.apache.spark.ml.feature.VectorAssembler = vecAssembler_e25e19a06a51\n",
      "finalPrep: org.apache.spark.sql.DataFrame = [count: double, zip: int ... 10 more fields]\n"
     ]
    }
   ],
   "source": [
    "%%spark\n",
    "import org.apache.spark.ml.feature.VectorAssembler\n",
    "\n",
    "val assembler = new VectorAssembler().setInputCols(featureCols).setOutputCol(\"features\")\n",
    "\n",
    "val finalPrep = assembler.transform(prepped)"
   ]
  },
  {
   "cell_type": "markdown",
   "metadata": {},
   "source": [
    "Split into training and test set"
   ]
  },
  {
   "cell_type": "code",
   "execution_count": 82,
   "metadata": {},
   "outputs": [
    {
     "name": "stdout",
     "output_type": "stream",
     "text": [
      "training: org.apache.spark.sql.Dataset[org.apache.spark.sql.Row] = [count: double, zip: int ... 10 more fields]\n",
      "test: org.apache.spark.sql.Dataset[org.apache.spark.sql.Row] = [count: double, zip: int ... 10 more fields]\n",
      "res47: training.type = [count: double, zip: int ... 10 more fields]\n",
      "res48: test.type = [count: double, zip: int ... 10 more fields]\n",
      "4068\n",
      "1740\n"
     ]
    }
   ],
   "source": [
    "%%spark\n",
    "\n",
    "val Array(training, test) = finalPrep.randomSplit(Array(0.7, 0.3))\n",
    "\n",
    "// Going to cache the data to make sure things stay snappy!\n",
    "training.cache()\n",
    "test.cache()\n",
    "\n",
    "println(training.count())\n",
    "println(test.count())"
   ]
  },
  {
   "cell_type": "markdown",
   "metadata": {},
   "source": [
    "Now let's do some machine learning"
   ]
  },
  {
   "cell_type": "code",
   "execution_count": 84,
   "metadata": {},
   "outputs": [
    {
     "name": "stdout",
     "output_type": "stream",
     "text": [
      "import org.apache.spark.ml.regression.LinearRegression\n",
      "lrModel: org.apache.spark.ml.regression.LinearRegression = linReg_557b5ccab242\n",
      "Printing out the model Parameters:\n",
      "--------------------\n",
      "aggregationDepth: suggested depth for treeAggregate (>= 2) (default: 2)\n",
      "elasticNetParam: the ElasticNet mixing parameter, in range [0, 1]. For alpha = 0, the penalty is an L2 penalty. For alpha = 1, it is an L1 penalty (default: 0.0, current: 0.5)\n",
      "epsilon: The shape parameter to control the amount of robustness. Must be > 1.0. (default: 1.35)\n",
      "featuresCol: features column name (default: features, current: features)\n",
      "fitIntercept: whether to fit an intercept term (default: true)\n",
      "labelCol: label column name (default: label, current: count)\n",
      "loss: The loss function to be optimized. Supported options: squaredError, huber. (Default squaredError) (default: squaredError)\n",
      "maxIter: maximum number of iterations (>= 0) (default: 100)\n",
      "predictionCol: prediction column name (default: prediction)\n",
      "regParam: regularization parameter (>= 0) (default: 0.0)\n",
      "solver: The solver algorithm for optimization. Supported options: auto, normal, l-bfgs. (Default auto) (default: auto)\n",
      "standardization: whether to standardize the training features before fitting the model (default: true)\n",
      "tol: the convergence tolerance for iterative algorithms (>= 0) (default: 1.0E-6)\n",
      "weightCol: weight column name. If this is not set or empty, we treat all instance weights as 1.0 (undefined)\n",
      "--------------------\n"
     ]
    }
   ],
   "source": [
    "%%spark\n",
    "import org.apache.spark.ml.regression.LinearRegression\n",
    "\n",
    "val lrModel = new LinearRegression().setLabelCol(\"count\").setFeaturesCol(\"features\").setElasticNetParam(0.5)\n",
    "\n",
    "println(\"Printing out the model Parameters:\")\n",
    "println(\"-\"*20)\n",
    "println(lrModel.explainParams)\n",
    "println(\"-\"*20)"
   ]
  },
  {
   "cell_type": "markdown",
   "metadata": {},
   "source": [
    "We can see what our model is going to do, now let's train it"
   ]
  },
  {
   "cell_type": "code",
   "execution_count": 86,
   "metadata": {},
   "outputs": [
    {
     "name": "stdout",
     "output_type": "stream",
     "text": [
      "import org.apache.spark.mllib.evaluation.RegressionMetrics\n",
      "lrFitted: org.apache.spark.ml.regression.LinearRegressionModel = linReg_557b5ccab242\n"
     ]
    }
   ],
   "source": [
    "%%spark \n",
    "\n",
    "import org.apache.spark.mllib.evaluation.RegressionMetrics\n",
    "val lrFitted = lrModel.fit(training)"
   ]
  },
  {
   "cell_type": "markdown",
   "metadata": {},
   "source": [
    "Now you'll see that since we're working with exact numbers (you can't have 1/2 a farmer's market for example), I'm going to check equality by first rounding the value to the nearest digital value."
   ]
  },
  {
   "cell_type": "code",
   "execution_count": 92,
   "metadata": {},
   "outputs": [
    {
     "name": "stdout",
     "output_type": "stream",
     "text": [
      "holdout: org.apache.spark.sql.DataFrame = [raw_prediction: double, prediction: double ... 2 more fields]\n"
     ]
    }
   ],
   "source": [
    "%%spark \n",
    "val holdout = lrFitted.transform(test).selectExpr(\"prediction as raw_prediction\", \"double(round(prediction)) as prediction\", \"count\", \"\"\"CASE double(round(prediction)) = count WHEN true then 1 ELSE 0 END as equal\"\"\")\n",
    "\n",
    "holdout.createOrReplaceTempView(\"holdout\")"
   ]
  },
  {
   "cell_type": "code",
   "execution_count": 93,
   "metadata": {},
   "outputs": [
    {
     "data": {
      "text/html": [
       "<div>\n",
       "<style scoped>\n",
       "    .dataframe tbody tr th:only-of-type {\n",
       "        vertical-align: middle;\n",
       "    }\n",
       "\n",
       "    .dataframe tbody tr th {\n",
       "        vertical-align: top;\n",
       "    }\n",
       "\n",
       "    .dataframe thead th {\n",
       "        text-align: right;\n",
       "    }\n",
       "</style>\n",
       "<table border=\"1\" class=\"dataframe\">\n",
       "  <thead>\n",
       "    <tr style=\"text-align: right;\">\n",
       "      <th></th>\n",
       "      <th>raw_prediction</th>\n",
       "      <th>prediction</th>\n",
       "      <th>count</th>\n",
       "      <th>equal</th>\n",
       "    </tr>\n",
       "  </thead>\n",
       "  <tbody>\n",
       "    <tr>\n",
       "      <th>0</th>\n",
       "      <td>1.653628</td>\n",
       "      <td>2.0</td>\n",
       "      <td>0.0</td>\n",
       "      <td>0</td>\n",
       "    </tr>\n",
       "    <tr>\n",
       "      <th>1</th>\n",
       "      <td>1.226335</td>\n",
       "      <td>1.0</td>\n",
       "      <td>0.0</td>\n",
       "      <td>0</td>\n",
       "    </tr>\n",
       "    <tr>\n",
       "      <th>2</th>\n",
       "      <td>1.301371</td>\n",
       "      <td>1.0</td>\n",
       "      <td>0.0</td>\n",
       "      <td>0</td>\n",
       "    </tr>\n",
       "    <tr>\n",
       "      <th>3</th>\n",
       "      <td>0.091524</td>\n",
       "      <td>0.0</td>\n",
       "      <td>0.0</td>\n",
       "      <td>1</td>\n",
       "    </tr>\n",
       "    <tr>\n",
       "      <th>4</th>\n",
       "      <td>1.537867</td>\n",
       "      <td>2.0</td>\n",
       "      <td>1.0</td>\n",
       "      <td>0</td>\n",
       "    </tr>\n",
       "  </tbody>\n",
       "</table>\n",
       "</div>"
      ],
      "text/plain": [
       "   raw_prediction  prediction  count  equal\n",
       "0        1.653628         2.0    0.0      0\n",
       "1        1.226335         1.0    0.0      0\n",
       "2        1.301371         1.0    0.0      0\n",
       "3        0.091524         0.0    0.0      1\n",
       "4        1.537867         2.0    1.0      0"
      ]
     },
     "execution_count": 93,
     "metadata": {},
     "output_type": "execute_result"
    }
   ],
   "source": [
    "%%spark -c sql\n",
    "select * from holdout limit 5"
   ]
  },
  {
   "cell_type": "markdown",
   "metadata": {},
   "source": [
    "now let's see what proportion was exactly correct."
   ]
  },
  {
   "cell_type": "code",
   "execution_count": 98,
   "metadata": {},
   "outputs": [
    {
     "name": "stdout",
     "output_type": "stream",
     "text": [
      "proportion: org.apache.spark.sql.DataFrame = [(sum(equal) / sum(1)): double]\n"
     ]
    }
   ],
   "source": [
    "%%spark\n",
    "val proportion = holdout.selectExpr(\"sum(equal)/sum(1)\")\n",
    "\n",
    "proportion.createOrReplaceTempView(\"proportion\")"
   ]
  },
  {
   "cell_type": "code",
   "execution_count": 99,
   "metadata": {},
   "outputs": [
    {
     "data": {
      "text/html": [
       "<div>\n",
       "<style scoped>\n",
       "    .dataframe tbody tr th:only-of-type {\n",
       "        vertical-align: middle;\n",
       "    }\n",
       "\n",
       "    .dataframe tbody tr th {\n",
       "        vertical-align: top;\n",
       "    }\n",
       "\n",
       "    .dataframe thead th {\n",
       "        text-align: right;\n",
       "    }\n",
       "</style>\n",
       "<table border=\"1\" class=\"dataframe\">\n",
       "  <thead>\n",
       "    <tr style=\"text-align: right;\">\n",
       "      <th></th>\n",
       "      <th>(sum(equal) / sum(1))</th>\n",
       "    </tr>\n",
       "  </thead>\n",
       "  <tbody>\n",
       "    <tr>\n",
       "      <th>0</th>\n",
       "      <td>0.223563</td>\n",
       "    </tr>\n",
       "  </tbody>\n",
       "</table>\n",
       "</div>"
      ],
      "text/plain": [
       "   (sum(equal) / sum(1))\n",
       "0               0.223563"
      ]
     },
     "execution_count": 99,
     "metadata": {},
     "output_type": "execute_result"
    }
   ],
   "source": [
    "%%spark -c sql\n",
    "select * from proportion limit 5"
   ]
  },
  {
   "cell_type": "markdown",
   "metadata": {},
   "source": [
    "Let's also calculate some regression metrics."
   ]
  },
  {
   "cell_type": "code",
   "execution_count": 100,
   "metadata": {},
   "outputs": [
    {
     "name": "stdout",
     "output_type": "stream",
     "text": [
      "rm: org.apache.spark.mllib.evaluation.RegressionMetrics = org.apache.spark.mllib.evaluation.RegressionMetrics@62cbddcf\n",
      "MSE: 3.1\n",
      "MAE: 1.2494252873563219\n",
      "RMSE Squared: 1.760681686165901\n",
      "R Squared: -0.08621070373921191\n",
      "Explained Variance: 0.7688796406394507\n",
      "\n"
     ]
    }
   ],
   "source": [
    "%%spark\n",
    "// have to do a type conversion for RegressionMetrics\n",
    "val rm = new RegressionMetrics(\n",
    "  holdout.select(\"prediction\", \"count\").rdd.map(x =>\n",
    "  (x(0).asInstanceOf[Double], x(1).asInstanceOf[Double])))\n",
    "\n",
    "println(\"MSE: \" + rm.meanSquaredError)\n",
    "println(\"MAE: \" + rm.meanAbsoluteError)\n",
    "println(\"RMSE Squared: \" + rm.rootMeanSquaredError)\n",
    "println(\"R Squared: \" + rm.r2)\n",
    "println(\"Explained Variance: \" + rm.explainedVariance + \"\\n\")"
   ]
  },
  {
   "cell_type": "markdown",
   "metadata": {},
   "source": [
    "I found these results to be sub-optimal, so let's try exploring another way to train the model. Rather than training on a single model with hard-coded parameters, let's train using a pipeline.  \n",
    "  \n",
    "A pipeline is going to give us some nice benefits in that it will allow us to couple of transformations we need in order to transform our raw data into the prepared data for the model but also it provides a simple, straightforward way to try out a lot of different combinations of parameters. This is a process called hyperparameter tuning or grid search. To review, grid search is where you set up the exact parameters that you would like to test and MLLib will automatically create all the necessary combinations of these to test.  \n",
    "  \n",
    "For example, below we'll see numTrees to 20 and 60 and maxDepth to 5 and 10. The parameter grid builder will automatically construct all the combinations of these two variable (along with the other ones that we might specify too). Additionally we're also going to use cross validation) to tune our hyperparameters, this will allow us to attempt to try to control overfitting of our model.  \n",
    "  \n",
    "Lastly we'll need to set up a Regression Evaluator that will evaluate the models that we choose based on some metric (the default is RMSE). The key take away is that the pipeline will automatically optimize for our given metric choice by exploring the parameter grid that we set up rather than us having to do it manually like we would have had to do above.  \n",
    "  \n",
    "Now we can go about training our random forest!  \n",
    "  \n",
    "note: this might take a little while because of the number of combinations that we're trying and limitations in workers available.  \n"
   ]
  },
  {
   "cell_type": "code",
   "execution_count": 102,
   "metadata": {},
   "outputs": [
    {
     "name": "stdout",
     "output_type": "stream",
     "text": [
      "import org.apache.spark.ml.regression.RandomForestRegressor\n",
      "import org.apache.spark.ml.tuning.{ParamGridBuilder, CrossValidator}\n",
      "import org.apache.spark.ml.evaluation.RegressionEvaluator\n",
      "import org.apache.spark.ml.{Pipeline, PipelineStage}\n",
      "rfModel: org.apache.spark.ml.regression.RandomForestRegressor = rfr_6eb6ad236606\n",
      "paramGrid: Array[org.apache.spark.ml.param.ParamMap] =\n",
      "Array({\n",
      "\trfr_6eb6ad236606-maxDepth: 5,\n",
      "\trfr_6eb6ad236606-numTrees: 20\n",
      "}, {\n",
      "\trfr_6eb6ad236606-maxDepth: 5,\n",
      "\trfr_6eb6ad236606-numTrees: 60\n",
      "}, {\n",
      "\trfr_6eb6ad236606-maxDepth: 10,\n",
      "\trfr_6eb6ad236606-numTrees: 20\n",
      "}, {\n",
      "\trfr_6eb6ad236606-maxDepth: 10,\n",
      "\trfr_6eb6ad236606-numTrees: 60\n",
      "})\n",
      "steps: Array[org.apache.spark.ml.PipelineStage] = Array(rfr_6eb6ad236606)\n",
      "pipeline: org.apache.spark.ml.Pipeline = pipeline_1d5bc027eabe\n",
      "cv: org.apache.spark.ml.tuning.CrossValidator = cv_03d853461efb\n",
      "pipelineFitted: org.apache.spark.ml.tuning.CrossValidatorModel = cv_03d853461efb\n"
     ]
    }
   ],
   "source": [
    "%%spark\n",
    "import org.apache.spark.ml.regression.RandomForestRegressor\n",
    "import org.apache.spark.ml.tuning.{ParamGridBuilder, CrossValidator}\n",
    "\n",
    "import org.apache.spark.ml.evaluation.RegressionEvaluator\n",
    "\n",
    "import org.apache.spark.ml.{Pipeline, PipelineStage}\n",
    "\n",
    "val rfModel = new RandomForestRegressor().setLabelCol(\"count\").setFeaturesCol(\"features\")\n",
    "\n",
    "val paramGrid = new ParamGridBuilder().addGrid(rfModel.maxDepth, Array(5, 10)).addGrid(rfModel.numTrees, Array(20, 60)).build()\n",
    "// Note, that this parameter grid will take a long time\n",
    "// to run in the community edition due to limited number\n",
    "// of workers available! Be patient for it to run!\n",
    "// If you want it to run faster, remove some of\n",
    "// the above parameters and it'll speed right up!\n",
    "\n",
    "val steps:Array[PipelineStage] = Array(rfModel)\n",
    "\n",
    "val pipeline = new Pipeline().setStages(steps)\n",
    "\n",
    "// you can feel free to change the number of folds used in cross validation as well\n",
    "// the estimator can also just be an individual model rather than a pipeline\n",
    "val cv = new CrossValidator().setEstimator(pipeline).setEstimatorParamMaps(paramGrid).setEvaluator(new RegressionEvaluator().setLabelCol(\"count\"))\n",
    "\n",
    "val pipelineFitted = cv.fit(training)"
   ]
  },
  {
   "cell_type": "markdown",
   "metadata": {},
   "source": [
    "Now we've trained our model! Let's take a look at which version performed best!"
   ]
  },
  {
   "cell_type": "code",
   "execution_count": 105,
   "metadata": {},
   "outputs": [
    {
     "name": "stdout",
     "output_type": "stream",
     "text": [
      "The Best Parameters:\n",
      "--------------------\n",
      "RandomForestRegressionModel (uid=rfr_6eb6ad236606) with 20 trees\n",
      "res100: org.apache.spark.ml.param.ParamMap =\n",
      "{\n",
      "\trfr_6eb6ad236606-cacheNodeIds: false,\n",
      "\trfr_6eb6ad236606-checkpointInterval: 10,\n",
      "\trfr_6eb6ad236606-featureSubsetStrategy: auto,\n",
      "\trfr_6eb6ad236606-featuresCol: features,\n",
      "\trfr_6eb6ad236606-impurity: variance,\n",
      "\trfr_6eb6ad236606-labelCol: count,\n",
      "\trfr_6eb6ad236606-maxBins: 32,\n",
      "\trfr_6eb6ad236606-maxDepth: 10,\n",
      "\trfr_6eb6ad236606-maxMemoryInMB: 256,\n",
      "\trfr_6eb6ad236606-minInfoGain: 0.0,\n",
      "\trfr_6eb6ad236606-minInstancesPerNode: 1,\n",
      "\trfr_6eb6ad236606-numTrees: 20,\n",
      "\trfr_6eb6ad236606-predictionCol: prediction,\n",
      "\trfr_6eb6ad236606-seed: 235498149,\n",
      "\trfr_6eb6ad236606-subsamplingRate: 1.0\n",
      "}\n"
     ]
    }
   ],
   "source": [
    "%%spark\n",
    "println(\"The Best Parameters:\\n--------------------\")\n",
    "println(pipelineFitted.bestModel.asInstanceOf[org.apache.spark.ml.PipelineModel].stages(0))\n",
    "pipelineFitted.bestModel.asInstanceOf[org.apache.spark.ml.PipelineModel].stages(0).extractParamMap"
   ]
  },
  {
   "cell_type": "markdown",
   "metadata": {},
   "source": [
    "Now let's take a look at our holdout set results."
   ]
  },
  {
   "cell_type": "code",
   "execution_count": 106,
   "metadata": {},
   "outputs": [
    {
     "name": "stdout",
     "output_type": "stream",
     "text": [
      "holdout2: org.apache.spark.sql.DataFrame = [raw_prediction: double, prediction: double ... 2 more fields]\n"
     ]
    }
   ],
   "source": [
    "%%spark\n",
    "val holdout2 = pipelineFitted.bestModel.transform(test).selectExpr(\"prediction as raw_prediction\", \"double(round(prediction)) as prediction\", \"count\", \"\"\"CASE double(round(prediction)) = count WHEN true then 1 ELSE 0 END as equal\"\"\")\n",
    "holdout2.createOrReplaceTempView(\"holdout2\")"
   ]
  },
  {
   "cell_type": "code",
   "execution_count": 107,
   "metadata": {},
   "outputs": [
    {
     "data": {
      "text/html": [
       "<div>\n",
       "<style scoped>\n",
       "    .dataframe tbody tr th:only-of-type {\n",
       "        vertical-align: middle;\n",
       "    }\n",
       "\n",
       "    .dataframe tbody tr th {\n",
       "        vertical-align: top;\n",
       "    }\n",
       "\n",
       "    .dataframe thead th {\n",
       "        text-align: right;\n",
       "    }\n",
       "</style>\n",
       "<table border=\"1\" class=\"dataframe\">\n",
       "  <thead>\n",
       "    <tr style=\"text-align: right;\">\n",
       "      <th></th>\n",
       "      <th>raw_prediction</th>\n",
       "      <th>prediction</th>\n",
       "      <th>count</th>\n",
       "      <th>equal</th>\n",
       "    </tr>\n",
       "  </thead>\n",
       "  <tbody>\n",
       "    <tr>\n",
       "      <th>0</th>\n",
       "      <td>0.257969</td>\n",
       "      <td>0.0</td>\n",
       "      <td>0.0</td>\n",
       "      <td>1</td>\n",
       "    </tr>\n",
       "    <tr>\n",
       "      <th>1</th>\n",
       "      <td>1.023895</td>\n",
       "      <td>1.0</td>\n",
       "      <td>0.0</td>\n",
       "      <td>0</td>\n",
       "    </tr>\n",
       "    <tr>\n",
       "      <th>2</th>\n",
       "      <td>0.565895</td>\n",
       "      <td>1.0</td>\n",
       "      <td>0.0</td>\n",
       "      <td>0</td>\n",
       "    </tr>\n",
       "    <tr>\n",
       "      <th>3</th>\n",
       "      <td>2.083627</td>\n",
       "      <td>2.0</td>\n",
       "      <td>0.0</td>\n",
       "      <td>0</td>\n",
       "    </tr>\n",
       "    <tr>\n",
       "      <th>4</th>\n",
       "      <td>1.136485</td>\n",
       "      <td>1.0</td>\n",
       "      <td>1.0</td>\n",
       "      <td>1</td>\n",
       "    </tr>\n",
       "  </tbody>\n",
       "</table>\n",
       "</div>"
      ],
      "text/plain": [
       "   raw_prediction  prediction  count  equal\n",
       "0        0.257969         0.0    0.0      1\n",
       "1        1.023895         1.0    0.0      0\n",
       "2        0.565895         1.0    0.0      0\n",
       "3        2.083627         2.0    0.0      0\n",
       "4        1.136485         1.0    1.0      1"
      ]
     },
     "execution_count": 107,
     "metadata": {},
     "output_type": "execute_result"
    }
   ],
   "source": [
    "%%spark -c sql\n",
    "select * from holdout2 limit 5"
   ]
  },
  {
   "cell_type": "markdown",
   "metadata": {},
   "source": [
    "As well as our regression metrics on the test set."
   ]
  },
  {
   "cell_type": "code",
   "execution_count": 108,
   "metadata": {},
   "outputs": [
    {
     "name": "stdout",
     "output_type": "stream",
     "text": [
      "rm2: org.apache.spark.mllib.evaluation.RegressionMetrics = org.apache.spark.mllib.evaluation.RegressionMetrics@4c8974d8\n",
      "MSE: 5.785632183908046\n",
      "MAE: 1.1120689655172413\n",
      "RMSE Squared: 2.40533411066073\n",
      "R Squared: -1.027230840664191\n",
      "Explained Variance: 4.8692601400449185\n",
      "\n"
     ]
    }
   ],
   "source": [
    "%%spark\n",
    "// have to do a type conversion for RegressionMetrics\n",
    "val rm2 = new RegressionMetrics(holdout2.select(\"prediction\", \"count\").rdd.map(x => (x(0).asInstanceOf[Double], x(1).asInstanceOf[Double])))\n",
    "\n",
    "println(\"MSE: \" + rm2.meanSquaredError)\n",
    "println(\"MAE: \" + rm2.meanAbsoluteError)\n",
    "println(\"RMSE Squared: \" + rm2.rootMeanSquaredError)\n",
    "println(\"R Squared: \" + rm2.r2)\n",
    "println(\"Explained Variance: \" + rm2.explainedVariance + \"\\n\")"
   ]
  },
  {
   "cell_type": "code",
   "execution_count": 109,
   "metadata": {},
   "outputs": [
    {
     "name": "stdout",
     "output_type": "stream",
     "text": [
      "proportion2: org.apache.spark.sql.DataFrame = [(sum(equal) / sum(1)): double]\n"
     ]
    }
   ],
   "source": [
    "%%spark\n",
    "val proportion2 = holdout2.selectExpr(\"sum(equal)/sum(1)\")\n",
    "proportion2.createOrReplaceTempView(\"proportion2\")"
   ]
  },
  {
   "cell_type": "markdown",
   "metadata": {},
   "source": [
    "Finally we'll see an improvement in our \"exactly right\" proportion as well!"
   ]
  },
  {
   "cell_type": "code",
   "execution_count": 110,
   "metadata": {},
   "outputs": [
    {
     "data": {
      "text/html": [
       "<div>\n",
       "<style scoped>\n",
       "    .dataframe tbody tr th:only-of-type {\n",
       "        vertical-align: middle;\n",
       "    }\n",
       "\n",
       "    .dataframe tbody tr th {\n",
       "        vertical-align: top;\n",
       "    }\n",
       "\n",
       "    .dataframe thead th {\n",
       "        text-align: right;\n",
       "    }\n",
       "</style>\n",
       "<table border=\"1\" class=\"dataframe\">\n",
       "  <thead>\n",
       "    <tr style=\"text-align: right;\">\n",
       "      <th></th>\n",
       "      <th>(sum(equal) / sum(1))</th>\n",
       "    </tr>\n",
       "  </thead>\n",
       "  <tbody>\n",
       "    <tr>\n",
       "      <th>0</th>\n",
       "      <td>0.372989</td>\n",
       "    </tr>\n",
       "  </tbody>\n",
       "</table>\n",
       "</div>"
      ],
      "text/plain": [
       "   (sum(equal) / sum(1))\n",
       "0               0.372989"
      ]
     },
     "execution_count": 110,
     "metadata": {},
     "output_type": "execute_result"
    }
   ],
   "source": [
    "%%spark -c sql\n",
    "select * from proportion2 limit 5"
   ]
  }
 ],
 "metadata": {
  "kernelspec": {
   "display_name": "Python 3",
   "language": "python",
   "name": "python3"
  },
  "language_info": {
   "codemirror_mode": {
    "name": "ipython",
    "version": 2
   },
   "file_extension": ".py",
   "mimetype": "text/x-python",
   "name": "python",
   "nbconvert_exporter": "python",
   "pygments_lexer": "ipython2",
   "version": "2.7.15rc1"
  }
 },
 "nbformat": 4,
 "nbformat_minor": 2
}
