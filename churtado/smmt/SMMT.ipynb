{
 "cells": [
  {
   "cell_type": "markdown",
   "metadata": {
    "slideshow": {
     "slide_type": "skip"
    }
   },
   "source": [
    "https://otexts.org/fpp2/intro.html"
   ]
  },
  {
   "cell_type": "markdown",
   "metadata": {
    "slideshow": {
     "slide_type": "skip"
    }
   },
   "source": [
    "Use this command to convert the notebook into a slideshow that can be presented:\n",
    "\n",
    "\n",
    " jupyter nbconvert --to slides --ServePostProcessor.port=8910 --ServePostProcessor.ip='0.0.0.0' --post serve /home/churtado/notebooks/churtado/smmt/SMMT.ipynb  \n",
    "   \n",
    "Access the slides here:  \n",
    "http://192.168.1.123:8910/SMMT.slides.html#/"
   ]
  },
  {
   "cell_type": "code",
   "execution_count": 1,
   "metadata": {
    "slideshow": {
     "slide_type": "skip"
    }
   },
   "outputs": [],
   "source": [
    "import plotly\n",
    "plotly.tools.set_credentials_file(username='churtado', api_key='iaMRV6ydU9Ove5Yfy0R7')"
   ]
  },
  {
   "cell_type": "code",
   "execution_count": 2,
   "metadata": {
    "slideshow": {
     "slide_type": "skip"
    }
   },
   "outputs": [],
   "source": [
    "%load_ext sparkmagic.magics"
   ]
  },
  {
   "cell_type": "markdown",
   "metadata": {
    "slideshow": {
     "slide_type": "skip"
    }
   },
   "source": [
    "http://192.168.1.123:8998/"
   ]
  },
  {
   "cell_type": "code",
   "execution_count": 3,
   "metadata": {
    "slideshow": {
     "slide_type": "skip"
    }
   },
   "outputs": [
    {
     "data": {
      "application/vnd.jupyter.widget-view+json": {
       "model_id": "9eb41de152de4924ab6876f39c0cdc2f",
       "version_major": 2,
       "version_minor": 0
      },
      "text/plain": [
       "TWFnaWNzQ29udHJvbGxlcldpZGdldChjaGlsZHJlbj0oVGFiKGNoaWxkcmVuPShNYW5hZ2VTZXNzaW9uV2lkZ2V0KGNoaWxkcmVuPShIVE1MKHZhbHVlPXUnPGJyLz4nKSwgSFRNTCh2YWx1ZT3igKY=\n"
      ]
     },
     "metadata": {},
     "output_type": "display_data"
    },
    {
     "name": "stdout",
     "output_type": "stream",
     "text": [
      "Added endpoint http://192.168.1.123:8998/\n",
      "Starting Spark application\n"
     ]
    },
    {
     "data": {
      "text/html": [
       "<table>\n",
       "<tr><th>ID</th><th>YARN Application ID</th><th>Kind</th><th>State</th><th>Spark UI</th><th>Driver log</th><th>Current session?</th></tr><tr><td>10</td><td>None</td><td>spark</td><td>idle</td><td></td><td></td><td>✔</td></tr></table>"
      ],
      "text/plain": [
       "<IPython.core.display.HTML object>"
      ]
     },
     "metadata": {},
     "output_type": "display_data"
    },
    {
     "name": "stdout",
     "output_type": "stream",
     "text": [
      "SparkSession available as 'spark'.\n"
     ]
    }
   ],
   "source": [
    "%manage_spark"
   ]
  },
  {
   "cell_type": "code",
   "execution_count": 4,
   "metadata": {
    "slideshow": {
     "slide_type": "skip"
    }
   },
   "outputs": [
    {
     "name": "stdout",
     "output_type": "stream",
     "text": [
      "warning: there was one deprecation warning; re-run with -deprecation for details\n",
      "sqlContext: org.apache.spark.sql.hive.HiveContext = org.apache.spark.sql.hive.HiveContext@aaeb1d6\n",
      "df: org.apache.spark.sql.DataFrame = [date: string, passenger_cars: string]\n"
     ]
    }
   ],
   "source": [
    "%%spark\n",
    "val sqlContext = new org.apache.spark.sql.hive.HiveContext(sc)\n",
    "\n",
    "val df = sqlContext.read.format(\"com.crealytics.spark.excel\").option(\"sheetName\", \"pc\").option(\"useHeader\", \"true\").option(\"inferSchema\", \"false\").load(\"/home/churtado/notebooks/data/smmt.xls\")\n",
    "df.createTempView(\"pc\")"
   ]
  },
  {
   "cell_type": "code",
   "execution_count": 5,
   "metadata": {
    "slideshow": {
     "slide_type": "skip"
    }
   },
   "outputs": [
    {
     "data": {
      "text/html": [
       "<div>\n",
       "<style scoped>\n",
       "    .dataframe tbody tr th:only-of-type {\n",
       "        vertical-align: middle;\n",
       "    }\n",
       "\n",
       "    .dataframe tbody tr th {\n",
       "        vertical-align: top;\n",
       "    }\n",
       "\n",
       "    .dataframe thead th {\n",
       "        text-align: right;\n",
       "    }\n",
       "</style>\n",
       "<table border=\"1\" class=\"dataframe\">\n",
       "  <thead>\n",
       "    <tr style=\"text-align: right;\">\n",
       "      <th></th>\n",
       "      <th>database</th>\n",
       "      <th>tableName</th>\n",
       "      <th>isTemporary</th>\n",
       "    </tr>\n",
       "  </thead>\n",
       "  <tbody>\n",
       "    <tr>\n",
       "      <th>0</th>\n",
       "      <td>default</td>\n",
       "      <td>cleaned_taxes</td>\n",
       "      <td>False</td>\n",
       "    </tr>\n",
       "    <tr>\n",
       "      <th>1</th>\n",
       "      <td>default</td>\n",
       "      <td>passenger_cars</td>\n",
       "      <td>False</td>\n",
       "    </tr>\n",
       "    <tr>\n",
       "      <th>2</th>\n",
       "      <td></td>\n",
       "      <td>pc</td>\n",
       "      <td>True</td>\n",
       "    </tr>\n",
       "  </tbody>\n",
       "</table>\n",
       "</div>"
      ],
      "text/plain": [
       "  database       tableName  isTemporary\n",
       "0  default   cleaned_taxes        False\n",
       "1  default  passenger_cars        False\n",
       "2                       pc         True"
      ]
     },
     "execution_count": 5,
     "metadata": {},
     "output_type": "execute_result"
    }
   ],
   "source": [
    "%%spark -c sql\n",
    "SHOW TABLES"
   ]
  },
  {
   "cell_type": "code",
   "execution_count": 6,
   "metadata": {
    "slideshow": {
     "slide_type": "skip"
    }
   },
   "outputs": [
    {
     "data": {
      "text/html": [
       "<div>\n",
       "<style scoped>\n",
       "    .dataframe tbody tr th:only-of-type {\n",
       "        vertical-align: middle;\n",
       "    }\n",
       "\n",
       "    .dataframe tbody tr th {\n",
       "        vertical-align: top;\n",
       "    }\n",
       "\n",
       "    .dataframe thead th {\n",
       "        text-align: right;\n",
       "    }\n",
       "</style>\n",
       "<table border=\"1\" class=\"dataframe\">\n",
       "  <thead>\n",
       "    <tr style=\"text-align: right;\">\n",
       "      <th></th>\n",
       "      <th>date</th>\n",
       "      <th>passenger_cars</th>\n",
       "    </tr>\n",
       "  </thead>\n",
       "  <tbody>\n",
       "    <tr>\n",
       "      <th>0</th>\n",
       "      <td>2018-06-30</td>\n",
       "      <td>234945</td>\n",
       "    </tr>\n",
       "    <tr>\n",
       "      <th>1</th>\n",
       "      <td>2018-05-31</td>\n",
       "      <td>192649</td>\n",
       "    </tr>\n",
       "    <tr>\n",
       "      <th>2</th>\n",
       "      <td>2018-04-30</td>\n",
       "      <td>167911</td>\n",
       "    </tr>\n",
       "  </tbody>\n",
       "</table>\n",
       "</div>"
      ],
      "text/plain": [
       "        date  passenger_cars\n",
       "0 2018-06-30          234945\n",
       "1 2018-05-31          192649\n",
       "2 2018-04-30          167911"
      ]
     },
     "execution_count": 6,
     "metadata": {},
     "output_type": "execute_result"
    }
   ],
   "source": [
    "%%spark -c sql\n",
    "SELECT * from pc limit 3"
   ]
  },
  {
   "cell_type": "code",
   "execution_count": 7,
   "metadata": {
    "slideshow": {
     "slide_type": "skip"
    }
   },
   "outputs": [
    {
     "data": {
      "text/html": [
       "<div>\n",
       "<style scoped>\n",
       "    .dataframe tbody tr th:only-of-type {\n",
       "        vertical-align: middle;\n",
       "    }\n",
       "\n",
       "    .dataframe tbody tr th {\n",
       "        vertical-align: top;\n",
       "    }\n",
       "\n",
       "    .dataframe thead th {\n",
       "        text-align: right;\n",
       "    }\n",
       "</style>\n",
       "<table border=\"1\" class=\"dataframe\">\n",
       "  <thead>\n",
       "    <tr style=\"text-align: right;\">\n",
       "      <th></th>\n",
       "    </tr>\n",
       "  </thead>\n",
       "  <tbody>\n",
       "  </tbody>\n",
       "</table>\n",
       "</div>"
      ],
      "text/plain": [
       "Empty DataFrame\n",
       "Columns: []\n",
       "Index: []"
      ]
     },
     "execution_count": 7,
     "metadata": {},
     "output_type": "execute_result"
    }
   ],
   "source": [
    "%%spark -c sql\n",
    "DROP TABLE IF EXISTS passenger_cars"
   ]
  },
  {
   "cell_type": "code",
   "execution_count": 8,
   "metadata": {
    "slideshow": {
     "slide_type": "skip"
    }
   },
   "outputs": [
    {
     "data": {
      "text/html": [
       "<div>\n",
       "<style scoped>\n",
       "    .dataframe tbody tr th:only-of-type {\n",
       "        vertical-align: middle;\n",
       "    }\n",
       "\n",
       "    .dataframe tbody tr th {\n",
       "        vertical-align: top;\n",
       "    }\n",
       "\n",
       "    .dataframe thead th {\n",
       "        text-align: right;\n",
       "    }\n",
       "</style>\n",
       "<table border=\"1\" class=\"dataframe\">\n",
       "  <thead>\n",
       "    <tr style=\"text-align: right;\">\n",
       "      <th></th>\n",
       "    </tr>\n",
       "  </thead>\n",
       "  <tbody>\n",
       "  </tbody>\n",
       "</table>\n",
       "</div>"
      ],
      "text/plain": [
       "Empty DataFrame\n",
       "Columns: []\n",
       "Index: []"
      ]
     },
     "execution_count": 8,
     "metadata": {},
     "output_type": "execute_result"
    }
   ],
   "source": [
    "%%spark -c sql \n",
    "\n",
    "CREATE TABLE passenger_cars AS\n",
    "SELECT \n",
    " date, \n",
    " passenger_cars\n",
    "FROM pc"
   ]
  },
  {
   "cell_type": "code",
   "execution_count": 9,
   "metadata": {
    "slideshow": {
     "slide_type": "skip"
    }
   },
   "outputs": [],
   "source": [
    "%%spark -c sql -q -o df_passenger_cars\n",
    "SELECT * from pc"
   ]
  },
  {
   "cell_type": "markdown",
   "metadata": {
    "slideshow": {
     "slide_type": "slide"
    }
   },
   "source": [
    "ARIMA Forecast using SSMT data\n",
    "  \n",
    "* 2 columns: total passenger cars sold, and date\n",
    "* From january 2013 until june 2018\n",
    "* Monthly level (last day of each month)"
   ]
  },
  {
   "cell_type": "markdown",
   "metadata": {
    "slideshow": {
     "slide_type": "subslide"
    }
   },
   "source": [
    "When decomposing a time series, there are 2 components to look out for:  \n",
    "  \n",
    "Systematic: Components of the time series that have consistency or recurrence and can be described and modeled.  \n",
    "Non-Systematic: Components of the time series that cannot be directly modeled.  "
   ]
  },
  {
   "cell_type": "markdown",
   "metadata": {
    "slideshow": {
     "slide_type": "subslide"
    }
   },
   "source": [
    "Concretely, the components are:  \n",
    "  \n",
    "    Level: The average value in the series.  \n",
    "    Trend: The increasing or decreasing value in the series.  \n",
    "    Seasonality: The repeating short-term cycle in the series.  \n",
    "    Noise: The random variation in the series.  "
   ]
  },
  {
   "cell_type": "markdown",
   "metadata": {
    "slideshow": {
     "slide_type": "skip"
    }
   },
   "source": [
    "Let's try to decompose it. First set up our dataframe"
   ]
  },
  {
   "cell_type": "code",
   "execution_count": 10,
   "metadata": {
    "slideshow": {
     "slide_type": "skip"
    }
   },
   "outputs": [],
   "source": [
    "%matplotlib inline\n",
    "\n",
    "import pandas as pd\n",
    "from statsmodels.tsa.seasonal import seasonal_decompose\n",
    "\n",
    "df_passenger_cars_decomp = df_passenger_cars\n",
    "df_passenger_cars_decomp['date'] = pd.to_datetime(df_passenger_cars_decomp['date'])\n",
    "df_passenger_cars_decomp = df_passenger_cars_decomp.set_index('date')"
   ]
  },
  {
   "cell_type": "code",
   "execution_count": 30,
   "metadata": {
    "slideshow": {
     "slide_type": "slide"
    }
   },
   "outputs": [
    {
     "data": {
      "text/html": [
       "<div>\n",
       "<style scoped>\n",
       "    .dataframe tbody tr th:only-of-type {\n",
       "        vertical-align: middle;\n",
       "    }\n",
       "\n",
       "    .dataframe tbody tr th {\n",
       "        vertical-align: top;\n",
       "    }\n",
       "\n",
       "    .dataframe thead th {\n",
       "        text-align: right;\n",
       "    }\n",
       "</style>\n",
       "<table border=\"1\" class=\"dataframe\">\n",
       "  <thead>\n",
       "    <tr style=\"text-align: right;\">\n",
       "      <th></th>\n",
       "      <th>passenger_cars</th>\n",
       "    </tr>\n",
       "    <tr>\n",
       "      <th>date</th>\n",
       "      <th></th>\n",
       "    </tr>\n",
       "  </thead>\n",
       "  <tbody>\n",
       "    <tr>\n",
       "      <th>2018-06-30</th>\n",
       "      <td>234945</td>\n",
       "    </tr>\n",
       "    <tr>\n",
       "      <th>2018-05-31</th>\n",
       "      <td>192649</td>\n",
       "    </tr>\n",
       "    <tr>\n",
       "      <th>2018-04-30</th>\n",
       "      <td>167911</td>\n",
       "    </tr>\n",
       "    <tr>\n",
       "      <th>2018-03-31</th>\n",
       "      <td>474069</td>\n",
       "    </tr>\n",
       "    <tr>\n",
       "      <th>2018-02-28</th>\n",
       "      <td>80805</td>\n",
       "    </tr>\n",
       "  </tbody>\n",
       "</table>\n",
       "</div>"
      ],
      "text/plain": [
       "            passenger_cars\n",
       "date                      \n",
       "2018-06-30          234945\n",
       "2018-05-31          192649\n",
       "2018-04-30          167911\n",
       "2018-03-31          474069\n",
       "2018-02-28           80805"
      ]
     },
     "execution_count": 30,
     "metadata": {},
     "output_type": "execute_result"
    }
   ],
   "source": [
    "df_passenger_cars_decomp.head(5)"
   ]
  },
  {
   "cell_type": "markdown",
   "metadata": {
    "slideshow": {
     "slide_type": "skip"
    }
   },
   "source": [
    "We're looking at this breakdown assuming an additive model first:"
   ]
  },
  {
   "cell_type": "code",
   "execution_count": 31,
   "metadata": {
    "slideshow": {
     "slide_type": "skip"
    }
   },
   "outputs": [],
   "source": [
    "from statsmodels.tsa.seasonal import seasonal_decompose\n",
    "\n",
    "result_additive = seasonal_decompose(df_passenger_cars_decomp, model='additive')"
   ]
  },
  {
   "cell_type": "markdown",
   "metadata": {
    "slideshow": {
     "slide_type": "skip"
    }
   },
   "source": [
    "We'll take the original values from our statsmodel decomp and plot them"
   ]
  },
  {
   "cell_type": "code",
   "execution_count": 33,
   "metadata": {
    "slideshow": {
     "slide_type": "skip"
    }
   },
   "outputs": [],
   "source": [
    "import plotly.plotly as py\n",
    "import plotly.graph_objs as go\n",
    "\n",
    "trace1_observed = go.Scatter(\n",
    "    x = result_additive.observed.index,\n",
    "    y = result_additive.observed.values,\n",
    "    xaxis='x',\n",
    "    yaxis='y',\n",
    "    name='trend'\n",
    ")\n",
    "data_observed = [trace1_observed]\n",
    "layout_observed = go.Layout(\n",
    "    autosize=False,\n",
    "    width=800,\n",
    "    height=500,\n",
    "    xaxis=dict(\n",
    "        domain=[0, 1]\n",
    "    ),\n",
    "    yaxis=dict(\n",
    "        domain=[0, 1]\n",
    "    )\n",
    ")"
   ]
  },
  {
   "cell_type": "code",
   "execution_count": 34,
   "metadata": {
    "slideshow": {
     "slide_type": "slide"
    }
   },
   "outputs": [
    {
     "data": {
      "text/html": [
       "<iframe id=\"igraph\" scrolling=\"no\" style=\"border:none;\" seamless=\"seamless\" src=\"https://plot.ly/~churtado/24.embed\" height=\"500px\" width=\"800px\"></iframe>"
      ],
      "text/plain": [
       "<plotly.tools.PlotlyDisplay object>"
      ]
     },
     "execution_count": 34,
     "metadata": {},
     "output_type": "execute_result"
    }
   ],
   "source": [
    "fig_data = go.Figure(data=data_observed, layout=layout_observed)\n",
    "py.iplot(fig_data, filename='observed')"
   ]
  },
  {
   "cell_type": "code",
   "execution_count": 35,
   "metadata": {
    "slideshow": {
     "slide_type": "skip"
    }
   },
   "outputs": [],
   "source": [
    "import plotly.plotly as py\n",
    "import plotly.graph_objs as go\n",
    "\n",
    "trace1_additive = go.Scatter(\n",
    "    x = result_additive.trend.index,\n",
    "    y = result_additive.trend.values,\n",
    "    xaxis='x3',\n",
    "    yaxis='y3',\n",
    "    name='trend'\n",
    ")\n",
    "trace2_additive = go.Scatter(\n",
    "    x = result_additive.seasonal.index,\n",
    "    y = result_additive.seasonal.values,\n",
    "    xaxis='x2',\n",
    "    yaxis='y2',\n",
    "    name='seasonal'\n",
    ")\n",
    "trace3_additive = go.Scatter(\n",
    "    x = result_additive.resid.index,\n",
    "    y = result_additive.resid.values,\n",
    "    xaxis='x',\n",
    "    yaxis='y',\n",
    "    name='residual'\n",
    ")\n",
    "trace4_additive = go.Scatter(\n",
    "    x = result_additive.observed.index,\n",
    "    y = result_additive.observed.values,\n",
    "    xaxis='x4',\n",
    "    yaxis='y4',\n",
    "    name='observed'\n",
    ")\n",
    "data_additive = [trace4_additive, trace1_additive, trace2_additive, trace3_additive]\n",
    "layout_additive = go.Layout(\n",
    "    autosize=False,\n",
    "    width=800,\n",
    "    height=500,\n",
    "    xaxis=dict(\n",
    "        domain=[0, 1]\n",
    "    ),\n",
    "    yaxis=dict(\n",
    "        domain=[0, 0.23]\n",
    "    ),\n",
    "    xaxis2=dict(\n",
    "        domain=[0, 1],\n",
    "        anchor='x2'\n",
    "    ),\n",
    "    yaxis2=dict(\n",
    "        domain=[0.26, 0.48],\n",
    "        anchor='y2'\n",
    "    ),\n",
    "    xaxis3=dict(\n",
    "        domain=[0, 1],\n",
    "        anchor='y3'\n",
    "    ),\n",
    "    yaxis3=dict(\n",
    "        domain=[0.52, 0.73]\n",
    "    ),\n",
    "    xaxis4=dict(\n",
    "        domain=[0, 1],\n",
    "        anchor='y4'\n",
    "    ),\n",
    "    yaxis4=dict(\n",
    "        domain=[0.76, 1],\n",
    "        anchor='x4'\n",
    "    )\n",
    ")\n"
   ]
  },
  {
   "cell_type": "markdown",
   "metadata": {
    "slideshow": {
     "slide_type": "subslide"
    }
   },
   "source": [
    "For reference we'll decompose the dataset using a naive decomposition"
   ]
  },
  {
   "cell_type": "code",
   "execution_count": 74,
   "metadata": {
    "scrolled": true,
    "slideshow": {
     "slide_type": "subslide"
    }
   },
   "outputs": [
    {
     "data": {
      "text/html": [
       "<iframe id=\"igraph\" scrolling=\"no\" style=\"border:none;\" seamless=\"seamless\" src=\"https://plot.ly/~churtado/20.embed\" height=\"500px\" width=\"800px\"></iframe>"
      ],
      "text/plain": [
       "<plotly.tools.PlotlyDisplay object>"
      ]
     },
     "execution_count": 74,
     "metadata": {},
     "output_type": "execute_result"
    }
   ],
   "source": [
    "fig_additive = go.Figure(data=data_additive, layout=layout_additive)\n",
    "py.iplot(fig_additive, filename='additive-subplots')"
   ]
  },
  {
   "cell_type": "markdown",
   "metadata": {
    "slideshow": {
     "slide_type": "subslide"
    }
   },
   "source": [
    "Now we'll decompose using a naive multiplicative model  \n",
    "  \n",
    "However, as mentioned before, an additive model may be more appropriate."
   ]
  },
  {
   "cell_type": "code",
   "execution_count": 75,
   "metadata": {
    "slideshow": {
     "slide_type": "skip"
    }
   },
   "outputs": [],
   "source": [
    "from statsmodels.tsa.seasonal import seasonal_decompose\n",
    "\n",
    "result_mult = seasonal_decompose(df_passenger_cars_decomp, model='multiplicative')"
   ]
  },
  {
   "cell_type": "code",
   "execution_count": 18,
   "metadata": {
    "slideshow": {
     "slide_type": "skip"
    }
   },
   "outputs": [],
   "source": [
    "import plotly.plotly as py\n",
    "import plotly.graph_objs as go\n",
    "\n",
    "trace1_mult = go.Scatter(\n",
    "    x = result_mult.trend.index,\n",
    "    y = result_mult.trend.values,\n",
    "    xaxis='x3',\n",
    "    yaxis='y3',\n",
    "    name='trend'\n",
    ")\n",
    "trace2_mult = go.Scatter(\n",
    "    x = result_mult.seasonal.index,\n",
    "    y = result_mult.seasonal.values,\n",
    "    xaxis='x2',\n",
    "    yaxis='y2',\n",
    "    name='seasonal'\n",
    ")\n",
    "trace3_mult = go.Scatter(\n",
    "    x = result_mult.resid.index,\n",
    "    y = result_mult.resid.values,\n",
    "    xaxis='x',\n",
    "    yaxis='y',\n",
    "    name='residual'\n",
    ")\n",
    "trace4_mult = go.Scatter(\n",
    "    x = result_mult.observed.index,\n",
    "    y = result_mult.observed.values,\n",
    "    xaxis='x4',\n",
    "    yaxis='y4',\n",
    "    name='observed'\n",
    ")\n",
    "data_mult = [trace4_mult, trace1_mult, trace2_mult, trace3_mult]\n",
    "layout_mult = go.Layout(\n",
    "    autosize=False,\n",
    "    width=800,\n",
    "    height=500,\n",
    "    xaxis=dict(\n",
    "        domain=[0, 1]\n",
    "    ),\n",
    "    yaxis=dict(\n",
    "        domain=[0, 0.23]\n",
    "    ),\n",
    "    xaxis2=dict(\n",
    "        domain=[0, 1],\n",
    "        anchor='x2'\n",
    "    ),\n",
    "    yaxis2=dict(\n",
    "        domain=[0.26, 0.48],\n",
    "        anchor='y2'\n",
    "    ),\n",
    "    xaxis3=dict(\n",
    "        domain=[0, 1],\n",
    "        anchor='y3'\n",
    "    ),\n",
    "    yaxis3=dict(\n",
    "        domain=[0.52, 0.73]\n",
    "    ),\n",
    "    xaxis4=dict(\n",
    "        domain=[0, 1],\n",
    "        anchor='y4'\n",
    "    ),\n",
    "    yaxis4=dict(\n",
    "        domain=[0.76, 1],\n",
    "        anchor='x4'\n",
    "    )\n",
    ")"
   ]
  },
  {
   "cell_type": "code",
   "execution_count": 19,
   "metadata": {
    "slideshow": {
     "slide_type": "subslide"
    }
   },
   "outputs": [
    {
     "data": {
      "text/html": [
       "<iframe id=\"igraph\" scrolling=\"no\" style=\"border:none;\" seamless=\"seamless\" src=\"https://plot.ly/~churtado/22.embed\" height=\"500px\" width=\"800px\"></iframe>"
      ],
      "text/plain": [
       "<plotly.tools.PlotlyDisplay object>"
      ]
     },
     "execution_count": 19,
     "metadata": {},
     "output_type": "execute_result"
    }
   ],
   "source": [
    "fig_mult = go.Figure(data=data_mult, layout=layout_mult)\n",
    "py.iplot(fig_mult, filename='multiplicative-subplots')"
   ]
  },
  {
   "cell_type": "markdown",
   "metadata": {
    "slideshow": {
     "slide_type": "subslide"
    }
   },
   "source": [
    "Use of a naive model is generally discouraged, so we've used STL decomposition"
   ]
  },
  {
   "cell_type": "markdown",
   "metadata": {
    "slideshow": {
     "slide_type": "slide"
    }
   },
   "source": [
    "We'll now present STL decomposition (Seasonal and Trend decomposition using Loess)  \n",
    "  \n",
    "For more information see https://otexts.org/fpp2/stl.html  \n",
    "The STL decomp package used is here: https://github.com/jrmontag/STLDecompose\n",
    "\n",
    "STL decomp requires no missing values, so interpolation may be required. Fortunately, there are none in this dataset"
   ]
  },
  {
   "cell_type": "code",
   "execution_count": 20,
   "metadata": {
    "slideshow": {
     "slide_type": "skip"
    }
   },
   "outputs": [],
   "source": [
    "from stldecompose import decompose, forecast\n",
    "from stldecompose.forecast_funcs import (naive, drift, mean, seasonal_naive)"
   ]
  },
  {
   "cell_type": "code",
   "execution_count": 21,
   "metadata": {
    "slideshow": {
     "slide_type": "skip"
    }
   },
   "outputs": [],
   "source": [
    "stl = decompose(df_passenger_cars_decomp, period=12)"
   ]
  },
  {
   "cell_type": "code",
   "execution_count": 22,
   "metadata": {
    "slideshow": {
     "slide_type": "skip"
    }
   },
   "outputs": [],
   "source": [
    "import plotly.plotly as py\n",
    "import plotly.graph_objs as go\n",
    "\n",
    "trace1_stl = go.Scatter(\n",
    "    x = stl.trend.index,\n",
    "    y = stl.trend.values,\n",
    "    xaxis='x3',\n",
    "    yaxis='y3',\n",
    "    name='trend'\n",
    ")\n",
    "trace2_stl = go.Scatter(\n",
    "    x = stl.seasonal.index,\n",
    "    y = stl.seasonal.values,\n",
    "    xaxis='x2',\n",
    "    yaxis='y2',\n",
    "    name='seasonal'\n",
    ")\n",
    "trace3_stl = go.Scatter(\n",
    "    x = stl.resid.index,\n",
    "    y = stl.resid.values,\n",
    "    xaxis='x',\n",
    "    yaxis='y',\n",
    "    name='residual'\n",
    ")\n",
    "trace4_stl = go.Scatter(\n",
    "    x = stl.observed.index,\n",
    "    y = stl.observed.values,\n",
    "    xaxis='x4',\n",
    "    yaxis='y4',\n",
    "    name='observed'\n",
    ")\n",
    "data_stl = [trace4_stl, trace1_stl, trace2_stl, trace3_stl]\n",
    "layout_stl = go.Layout(\n",
    "    autosize=False,\n",
    "    width=800,\n",
    "    height=500,\n",
    "    xaxis=dict(\n",
    "        domain=[0, 1]\n",
    "    ),\n",
    "    yaxis=dict(\n",
    "        domain=[0, 0.23]\n",
    "    ),\n",
    "    xaxis2=dict(\n",
    "        domain=[0, 1],\n",
    "        anchor='x2'\n",
    "    ),\n",
    "    yaxis2=dict(\n",
    "        domain=[0.26, 0.48],\n",
    "        anchor='y2'\n",
    "    ),\n",
    "    xaxis3=dict(\n",
    "        domain=[0, 1],\n",
    "        anchor='y3'\n",
    "    ),\n",
    "    yaxis3=dict(\n",
    "        domain=[0.52, 0.73]\n",
    "    ),\n",
    "    xaxis4=dict(\n",
    "        domain=[0, 1],\n",
    "        anchor='y4'\n",
    "    ),\n",
    "    yaxis4=dict(\n",
    "        domain=[0.76, 1],\n",
    "        anchor='x4'\n",
    "    )\n",
    ")"
   ]
  },
  {
   "cell_type": "code",
   "execution_count": 23,
   "metadata": {
    "scrolled": false,
    "slideshow": {
     "slide_type": "slide"
    }
   },
   "outputs": [
    {
     "data": {
      "text/html": [
       "<iframe id=\"igraph\" scrolling=\"no\" style=\"border:none;\" seamless=\"seamless\" src=\"https://plot.ly/~churtado/26.embed\" height=\"500px\" width=\"800px\"></iframe>"
      ],
      "text/plain": [
       "<plotly.tools.PlotlyDisplay object>"
      ]
     },
     "execution_count": 23,
     "metadata": {},
     "output_type": "execute_result"
    }
   ],
   "source": [
    "fig_stl = go.Figure(data=data_stl, layout=layout_stl)\n",
    "py.iplot(fig_stl, filename='stl-decomp')"
   ]
  },
  {
   "cell_type": "markdown",
   "metadata": {
    "slideshow": {
     "slide_type": "subslide"
    }
   },
   "source": [
    "* Strong seasonal component  \n",
    "* Neither frequency nor amplitude change dramatically over time.  \n",
    "* Trend is not linear, but this behavior could be part of a larger cycle, difficult to tell without more data  \n",
    "* Trend doesn't seem to be multiplicative, so an additive model may be appropriate for decomposition and forecasting  \n",
    "* Magnitude of sales seems quite stable over the time period for which there is data\n",
    "* Overall, there are patterns in the data that indicate a forecast model is possible"
   ]
  },
  {
   "cell_type": "code",
   "execution_count": 188,
   "metadata": {
    "slideshow": {
     "slide_type": "skip"
    }
   },
   "outputs": [],
   "source": [
    "import plotly.plotly as py\n",
    "import plotly.graph_objs as go\n",
    "\n",
    "month = ['January', 'February', 'March', 'April', 'May', 'June', 'July',\n",
    "         'August', 'September', 'October', 'November', 'December']\n",
    "\n",
    "# Create and style traces\n",
    "trace0_seasonal = go.Scatter(\n",
    "    x = month,\n",
    "    y = df_passenger_cars_decomp.loc['2013'].values,\n",
    "    name = '2013',\n",
    "    #line = dict(color = ('rgb(22, 96, 167)'))\n",
    ")\n",
    "trace1_seasonal = go.Scatter(\n",
    "    x = month,\n",
    "    y = df_passenger_cars_decomp.loc['2014'].values,\n",
    "    name = '2014',\n",
    "    #line = dict(color = ('rgb(22, 96, 167)'))\n",
    ")\n",
    "trace2_seasonal = go.Scatter(\n",
    "    x = month,\n",
    "    y = df_passenger_cars_decomp.loc['2015'].values,\n",
    "    name = '2015',\n",
    "    #line = dict(color = ('rgb(22, 96, 167)'))\n",
    ")\n",
    "trace3_seasonal = go.Scatter(\n",
    "    x = month,\n",
    "    y = df_passenger_cars_decomp.loc['2016'].values,\n",
    "    name = '2016',\n",
    "    #line = dict(color = ('rgb(22, 96, 167)'))\n",
    ")\n",
    "trace4_seasonal = go.Scatter(\n",
    "    x = month,\n",
    "    y = df_passenger_cars_decomp.loc['2017'].values,\n",
    "    name = '2017',\n",
    "    #line = dict(color = ('rgb(22, 96, 167)'))\n",
    ")\n",
    "trace5_seasonal = go.Scatter(\n",
    "    x = month,\n",
    "    y = df_passenger_cars_decomp.loc['2018'].values,\n",
    "    name = '2018',\n",
    "    #line = dict(color = ('rgb(22, 96, 167)'))\n",
    ")\n",
    "data_seasonal = [trace0_seasonal, trace1_seasonal, trace2_seasonal, trace3_seasonal, trace4_seasonal, trace5_seasonal]\n",
    "\n",
    "# Edit the layout\n",
    "layout_seasonal = dict(title = 'Seasonal Plot Passenger Cars',\n",
    "              xaxis = dict(title = 'Month'),\n",
    "              yaxis = dict(title = 'Passenger Cars Sold'),\n",
    "              #showlegend=False\n",
    "              )\n",
    "\n",
    "fig_seasonal = dict(data=data_seasonal, layout=layout_seasonal)"
   ]
  },
  {
   "cell_type": "code",
   "execution_count": 189,
   "metadata": {
    "slideshow": {
     "slide_type": "slide"
    }
   },
   "outputs": [
    {
     "data": {
      "text/html": [
       "<iframe id=\"igraph\" scrolling=\"no\" style=\"border:none;\" seamless=\"seamless\" src=\"https://plot.ly/~churtado/30.embed\" height=\"525px\" width=\"100%\"></iframe>"
      ],
      "text/plain": [
       "<plotly.tools.PlotlyDisplay object>"
      ]
     },
     "execution_count": 189,
     "metadata": {},
     "output_type": "execute_result"
    }
   ],
   "source": [
    "py.iplot(fig_seasonal, filename='seasonal')"
   ]
  },
  {
   "cell_type": "markdown",
   "metadata": {
    "slideshow": {
     "slide_type": "-"
    }
   },
   "source": [
    "* Seasonal plot shows peaks in April and October, valleys in May and November  \n",
    "* Slight uptick in July and December"
   ]
  },
  {
   "cell_type": "code",
   "execution_count": 124,
   "metadata": {
    "slideshow": {
     "slide_type": "skip"
    }
   },
   "outputs": [],
   "source": [
    "import plotly.plotly as py\n",
    "import plotly.graph_objs as go\n",
    "\n",
    "month = ['January', 'February', 'March', 'April', 'May', 'June', 'July',\n",
    "         'August', 'September', 'October', 'November', 'December']\n",
    "\n",
    "data = [\n",
    "    go.Scatterpolar(\n",
    "      r = df_passenger_cars_decomp.loc['2013'].values,\n",
    "      theta = month,\n",
    "      name = '2013'\n",
    "    ),\n",
    "    go.Scatterpolar(\n",
    "      r = df_passenger_cars_decomp.loc['2014'].values,\n",
    "      theta = month,\n",
    "      name = '2014'\n",
    "    ),\n",
    "    go.Scatterpolar(\n",
    "      r = df_passenger_cars_decomp.loc['2015'].values,\n",
    "      theta = month,\n",
    "      name = '2015'\n",
    "    ),\n",
    "    go.Scatterpolar(\n",
    "      r = df_passenger_cars_decomp.loc['2016'].values,\n",
    "      theta = month,\n",
    "      name = '2016'\n",
    "    ),\n",
    "    go.Scatterpolar(\n",
    "      r = df_passenger_cars_decomp.loc['2017'].values,\n",
    "      theta = month,\n",
    "      name = '2017'\n",
    "    ),\n",
    "    go.Scatterpolar(\n",
    "      r = df_passenger_cars_decomp.loc['2018'].values,\n",
    "      theta = month,\n",
    "      name = '2018'\n",
    "    )\n",
    "]\n",
    "\n",
    "layout = go.Layout(\n",
    "  polar = dict(\n",
    "    radialaxis = dict(\n",
    "      visible = False,\n",
    "      range = [0, 600000]\n",
    "    )\n",
    "  ),\n",
    "  showlegend = False\n",
    ")\n",
    "\n",
    "fig = go.Figure(data=data, layout=layout)"
   ]
  },
  {
   "cell_type": "code",
   "execution_count": 125,
   "metadata": {
    "slideshow": {
     "slide_type": "subslide"
    }
   },
   "outputs": [
    {
     "data": {
      "text/html": [
       "<iframe id=\"igraph\" scrolling=\"no\" style=\"border:none;\" seamless=\"seamless\" src=\"https://plot.ly/~churtado/35.embed\" height=\"525px\" width=\"100%\"></iframe>"
      ],
      "text/plain": [
       "<plotly.tools.PlotlyDisplay object>"
      ]
     },
     "execution_count": 125,
     "metadata": {},
     "output_type": "execute_result"
    }
   ],
   "source": [
    "py.iplot(fig, filename = \"seasonal-polar\")"
   ]
  },
  {
   "cell_type": "markdown",
   "metadata": {
    "slideshow": {
     "slide_type": "-"
    }
   },
   "source": [
    "Radial plot"
   ]
  },
  {
   "cell_type": "code",
   "execution_count": 186,
   "metadata": {
    "slideshow": {
     "slide_type": "skip"
    }
   },
   "outputs": [],
   "source": [
    "import plotly.plotly as py\n",
    "import plotly.graph_objs as go\n",
    "\n",
    "trace1 = go.Scatter(\n",
    "    x=month_seasonal_sub,\n",
    "    y=df_passenger_cars_decomp.iloc[::-1][df_passenger_cars_decomp.index.month==1].values,\n",
    "    name = 'January'\n",
    ")\n",
    "trace2 = go.Scatter(\n",
    "    x=month_seasonal_sub,\n",
    "    y=df_passenger_cars_decomp.iloc[::-1][df_passenger_cars_decomp.index.month==2].values,\n",
    "    xaxis='x2',\n",
    "    yaxis='y2',\n",
    "    name = 'February'\n",
    ")\n",
    "trace3 = go.Scatter(\n",
    "    x=month_seasonal_sub,\n",
    "    y=df_passenger_cars_decomp.iloc[::-1][df_passenger_cars_decomp.index.month==3].values,\n",
    "    xaxis='x3',\n",
    "    yaxis='y3',\n",
    "    name = 'March'\n",
    ")\n",
    "trace4 = go.Scatter(\n",
    "    x=month_seasonal_sub,\n",
    "    y=df_passenger_cars_decomp.iloc[::-1][df_passenger_cars_decomp.index.month==4].values,\n",
    "    xaxis='x4',\n",
    "    yaxis='y4',\n",
    "    name = 'April'\n",
    ")\n",
    "data = [trace1, trace2, trace3, trace4]\n",
    "layout = go.Layout(\n",
    "    xaxis=dict(\n",
    "        domain=[0, 0.45]\n",
    "    ),\n",
    "    yaxis=dict(\n",
    "        domain=[0, 0.45]\n",
    "    ),\n",
    "    xaxis2=dict(\n",
    "        domain=[0.55, 1]\n",
    "    ),\n",
    "    xaxis3=dict(\n",
    "        domain=[0, 0.45],\n",
    "        anchor='y3'\n",
    "    ),\n",
    "    xaxis4=dict(\n",
    "        domain=[0.55, 1],\n",
    "        anchor='y4'\n",
    "    ),\n",
    "    yaxis2=dict(\n",
    "        domain=[0, 0.45],\n",
    "        anchor='x2'\n",
    "    ),\n",
    "    yaxis3=dict(\n",
    "        domain=[0.55, 1]\n",
    "    ),\n",
    "    yaxis4=dict(\n",
    "        domain=[0.55, 1],\n",
    "        anchor='x4'\n",
    "    )\n",
    ")\n",
    "fig = go.Figure(data=data, layout=layout)"
   ]
  },
  {
   "cell_type": "code",
   "execution_count": 187,
   "metadata": {
    "scrolled": true,
    "slideshow": {
     "slide_type": "slide"
    }
   },
   "outputs": [
    {
     "data": {
      "text/html": [
       "<iframe id=\"igraph\" scrolling=\"no\" style=\"border:none;\" seamless=\"seamless\" src=\"https://plot.ly/~churtado/47.embed\" height=\"525px\" width=\"100%\"></iframe>"
      ],
      "text/plain": [
       "<plotly.tools.PlotlyDisplay object>"
      ]
     },
     "execution_count": 187,
     "metadata": {},
     "output_type": "execute_result"
    }
   ],
   "source": [
    "py.iplot(fig, filename='sub-season-t1')"
   ]
  },
  {
   "cell_type": "code",
   "execution_count": 182,
   "metadata": {
    "slideshow": {
     "slide_type": "skip"
    }
   },
   "outputs": [],
   "source": [
    "import plotly.plotly as py\n",
    "import plotly.graph_objs as go\n",
    "\n",
    "trace1 = go.Scatter(\n",
    "    x=month_seasonal_sub,\n",
    "    y=df_passenger_cars_decomp.iloc[::-1][df_passenger_cars_decomp.index.month==5].values,\n",
    "    name = 'May'\n",
    ")\n",
    "trace2 = go.Scatter(\n",
    "    x=month_seasonal_sub,\n",
    "    y=df_passenger_cars_decomp.iloc[::-1][df_passenger_cars_decomp.index.month==6].values,\n",
    "    xaxis='x2',\n",
    "    yaxis='y2',\n",
    "    name = 'June'\n",
    ")\n",
    "trace3 = go.Scatter(\n",
    "    x=month_seasonal_sub,\n",
    "    y=df_passenger_cars_decomp.iloc[::-1][df_passenger_cars_decomp.index.month==7].values,\n",
    "    xaxis='x3',\n",
    "    yaxis='y3',\n",
    "    name = 'July'\n",
    ")\n",
    "trace4 = go.Scatter(\n",
    "    x=month_seasonal_sub,\n",
    "    y=df_passenger_cars_decomp.iloc[::-1][df_passenger_cars_decomp.index.month==8].values,\n",
    "    xaxis='x4',\n",
    "    yaxis='y4',\n",
    "    name = 'August'\n",
    ")\n",
    "data = [trace1, trace2, trace3, trace4]\n",
    "layout = go.Layout(\n",
    "    xaxis=dict(\n",
    "        domain=[0, 0.45]\n",
    "    ),\n",
    "    yaxis=dict(\n",
    "        domain=[0, 0.45]\n",
    "    ),\n",
    "    xaxis2=dict(\n",
    "        domain=[0.55, 1]\n",
    "    ),\n",
    "    xaxis3=dict(\n",
    "        domain=[0, 0.45],\n",
    "        anchor='y3'\n",
    "    ),\n",
    "    xaxis4=dict(\n",
    "        domain=[0.55, 1],\n",
    "        anchor='y4'\n",
    "    ),\n",
    "    yaxis2=dict(\n",
    "        domain=[0, 0.45],\n",
    "        anchor='x2'\n",
    "    ),\n",
    "    yaxis3=dict(\n",
    "        domain=[0.55, 1]\n",
    "    ),\n",
    "    yaxis4=dict(\n",
    "        domain=[0.55, 1],\n",
    "        anchor='x4'\n",
    "    )\n",
    ")\n",
    "fig = go.Figure(data=data, layout=layout)"
   ]
  },
  {
   "cell_type": "code",
   "execution_count": 183,
   "metadata": {
    "scrolled": true,
    "slideshow": {
     "slide_type": "slide"
    }
   },
   "outputs": [
    {
     "data": {
      "text/html": [
       "<iframe id=\"igraph\" scrolling=\"no\" style=\"border:none;\" seamless=\"seamless\" src=\"https://plot.ly/~churtado/45.embed\" height=\"525px\" width=\"100%\"></iframe>"
      ],
      "text/plain": [
       "<plotly.tools.PlotlyDisplay object>"
      ]
     },
     "execution_count": 183,
     "metadata": {},
     "output_type": "execute_result"
    }
   ],
   "source": [
    "py.iplot(fig, filename='sub-season-t2')"
   ]
  },
  {
   "cell_type": "code",
   "execution_count": 184,
   "metadata": {
    "slideshow": {
     "slide_type": "skip"
    }
   },
   "outputs": [],
   "source": [
    "import plotly.plotly as py\n",
    "import plotly.graph_objs as go\n",
    "\n",
    "trace1 = go.Scatter(\n",
    "    x=month_seasonal_sub,\n",
    "    y=df_passenger_cars_decomp.iloc[::-1][df_passenger_cars_decomp.index.month==9].values,\n",
    "    name = 'September'\n",
    ")\n",
    "trace2 = go.Scatter(\n",
    "    x=month_seasonal_sub,\n",
    "    y=df_passenger_cars_decomp.iloc[::-1][df_passenger_cars_decomp.index.month==10].values,\n",
    "    xaxis='x2',\n",
    "    yaxis='y2',\n",
    "    name = 'October'\n",
    ")\n",
    "trace3 = go.Scatter(\n",
    "    x=month_seasonal_sub,\n",
    "    y=df_passenger_cars_decomp.iloc[::-1][df_passenger_cars_decomp.index.month==11].values,\n",
    "    xaxis='x3',\n",
    "    yaxis='y3',\n",
    "    name = 'November'\n",
    ")\n",
    "trace4 = go.Scatter(\n",
    "    x=month_seasonal_sub,\n",
    "    y=df_passenger_cars_decomp.iloc[::-1][df_passenger_cars_decomp.index.month==12].values,\n",
    "    xaxis='x4',\n",
    "    yaxis='y4',\n",
    "    name = 'December'\n",
    ")\n",
    "data = [trace1, trace2, trace3, trace4]\n",
    "layout = go.Layout(\n",
    "    xaxis=dict(\n",
    "        domain=[0, 0.45]\n",
    "    ),\n",
    "    yaxis=dict(\n",
    "        domain=[0, 0.45]\n",
    "    ),\n",
    "    xaxis2=dict(\n",
    "        domain=[0.55, 1]\n",
    "    ),\n",
    "    xaxis3=dict(\n",
    "        domain=[0, 0.45],\n",
    "        anchor='y3'\n",
    "    ),\n",
    "    xaxis4=dict(\n",
    "        domain=[0.55, 1],\n",
    "        anchor='y4'\n",
    "    ),\n",
    "    yaxis2=dict(\n",
    "        domain=[0, 0.45],\n",
    "        anchor='x2'\n",
    "    ),\n",
    "    yaxis3=dict(\n",
    "        domain=[0.55, 1]\n",
    "    ),\n",
    "    yaxis4=dict(\n",
    "        domain=[0.55, 1],\n",
    "        anchor='x4'\n",
    "    )\n",
    ")\n",
    "fig = go.Figure(data=data, layout=layout)"
   ]
  },
  {
   "cell_type": "code",
   "execution_count": 185,
   "metadata": {
    "slideshow": {
     "slide_type": "slide"
    }
   },
   "outputs": [
    {
     "data": {
      "text/html": [
       "<iframe id=\"igraph\" scrolling=\"no\" style=\"border:none;\" seamless=\"seamless\" src=\"https://plot.ly/~churtado/43.embed\" height=\"525px\" width=\"100%\"></iframe>"
      ],
      "text/plain": [
       "<plotly.tools.PlotlyDisplay object>"
      ]
     },
     "execution_count": 185,
     "metadata": {},
     "output_type": "execute_result"
    }
   ],
   "source": [
    "py.iplot(fig, filename='sub-season-t3')"
   ]
  },
  {
   "cell_type": "markdown",
   "metadata": {
    "slideshow": {
     "slide_type": "slide"
    }
   },
   "source": [
    "Now, let's generate an autocorrelation plot"
   ]
  },
  {
   "cell_type": "code",
   "execution_count": 252,
   "metadata": {
    "slideshow": {
     "slide_type": "skip"
    }
   },
   "outputs": [],
   "source": [
    "import plotly.plotly as py\n",
    "import plotly.graph_objs as go\n",
    "import math \n",
    "\n",
    "from statsmodels.tsa.stattools import acf, pacf\n",
    "\n",
    "acf =  acf(df_passenger_cars_decomp)\n",
    "\n",
    "lags = range(0,acf.size+1)\n",
    "\n",
    "upper = [2/math.sqrt(acf.size)] * acf.size\n",
    "lower = [-2/math.sqrt(acf.size)] * acf.size\n",
    "\n",
    "# Create and style traces\n",
    "trace0_acf = go.Scatter(\n",
    "    x = lags,\n",
    "    y = acf,\n",
    "    name = 'ACF',\n",
    "    #line = dict(color = ('rgb(22, 96, 167)'))\n",
    ")\n",
    "trace1_acf = go.Scatter(\n",
    "    x = lags,\n",
    "    y = upper,\n",
    "    name = 'upper',\n",
    "    line = dict(\n",
    "        color = ('rgb(22, 96, 167)'),\n",
    "        width = 2,\n",
    "        dash = 'dash'\n",
    "    )\n",
    ")\n",
    "trace2_acf = go.Scatter(\n",
    "    x = lags,\n",
    "    y = lower,\n",
    "    name = 'lower',\n",
    "    line = dict(\n",
    "        color = ('rgb(22, 96, 167)'),\n",
    "        width = 2,\n",
    "        dash = 'dash'\n",
    "    )\n",
    ")\n",
    "\n",
    "data_acf = [trace0_acf, trace1_acf, trace2_acf]\n",
    "\n",
    "# Edit the layout\n",
    "layout_acf = dict(title = 'ACF Plot',\n",
    "              xaxis = dict(title = 'Lag'),\n",
    "              yaxis = dict(title = 'Correlation Coefficient'),\n",
    "              #showlegend=False\n",
    "              )\n",
    "\n",
    "fig_acf = dict(data=data_acf, layout=layout_acf)"
   ]
  },
  {
   "cell_type": "code",
   "execution_count": 253,
   "metadata": {
    "slideshow": {
     "slide_type": "slide"
    }
   },
   "outputs": [
    {
     "data": {
      "text/html": [
       "<iframe id=\"igraph\" scrolling=\"no\" style=\"border:none;\" seamless=\"seamless\" src=\"https://plot.ly/~churtado/49.embed\" height=\"525px\" width=\"100%\"></iframe>"
      ],
      "text/plain": [
       "<plotly.tools.PlotlyDisplay object>"
      ]
     },
     "execution_count": 253,
     "metadata": {},
     "output_type": "execute_result"
    }
   ],
   "source": [
    "py.iplot(fig_acf, filename='acf')"
   ]
  },
  {
   "cell_type": "markdown",
   "metadata": {
    "slideshow": {
     "slide_type": "subslide"
    }
   },
   "source": [
    "* Highest correlation coefficient observed is at lag 6. The cycle of peaks and valleys tend to repeat at this frequency\n",
    "* This is due to the seasonal pattern in the data: the peaks tend to be 6 months apart and the troughs tend to be 4 and then two months apart.\n",
    "* 6 would be a good lag for an ARIMA forecast model"
   ]
  },
  {
   "cell_type": "markdown",
   "metadata": {
    "slideshow": {
     "slide_type": "slide"
    }
   },
   "source": [
    "We will now try to create an ARIMA model using this data to forecast PC numbers into the future.  \n",
    "  \n",
    "Taken from: https://machinelearningmastery.com/arima-for-time-series-forecasting-with-python/"
   ]
  },
  {
   "cell_type": "markdown",
   "metadata": {
    "slideshow": {
     "slide_type": "subslide"
    }
   },
   "source": [
    "ARIMA is an acronym that stands for AutoRegressive Integrated Moving Average. It is a generalization of the simpler AutoRegressive Moving Average and adds the notion of integration."
   ]
  },
  {
   "cell_type": "markdown",
   "metadata": {
    "slideshow": {
     "slide_type": "-"
    }
   },
   "source": [
    "This acronym is descriptive, capturing the key aspects of the model itself. Briefly, they are:\n",
    "\n",
    "    AR: Autoregression. A model that uses the dependent relationship between an observation and some number of lagged observations.\n",
    "    I: Integrated. The use of differencing of raw observations (e.g. subtracting an observation from an observation at the previous time step) in order to make the time series stationary.\n",
    "    MA: Moving Average. A model that uses the dependency between an observation and a residual error from a moving average model applied to lagged observations.\n"
   ]
  },
  {
   "cell_type": "markdown",
   "metadata": {
    "slideshow": {
     "slide_type": "-"
    }
   },
   "source": [
    "The parameters of the ARIMA model are defined as follows:\n",
    "\n",
    "    p: The number of lag observations included in the model, also called the lag order.\n",
    "    d: The number of times that the raw observations are differenced, also called the degree of differencing.\n",
    "    q: The size of the moving average window, also called the order of moving average.\n"
   ]
  },
  {
   "cell_type": "markdown",
   "metadata": {
    "slideshow": {
     "slide_type": "slide"
    }
   },
   "source": [
    "Before we run the ARIMA model on the data, the series has to be tested for stationarity. Although from the decomposition, I believe it's pretty clear it's not a stationary process (the trend varies over time, altering the mean)"
   ]
  },
  {
   "cell_type": "markdown",
   "metadata": {
    "slideshow": {
     "slide_type": "subslide"
    }
   },
   "source": [
    "To put it in simpler terms, it has to have a constant mean and variance. And to be clear, stationarity is a property of a process, not a time series.\n",
    "\n",
    "See here: https://en.wikipedia.org/wiki/Stationary_process  \n",
    "See also: https://stats.stackexchange.com/questions/9951/intuitive-explanation-of-stationarity"
   ]
  },
  {
   "cell_type": "markdown",
   "metadata": {
    "slideshow": {
     "slide_type": "slide"
    }
   },
   "source": [
    "There are several ways to test for stationarity, we'll apply a simple method.\n",
    "  \n",
    "What we'll do is split the series into 2, and calculate the mean and variance of each group of numbers and compare the values. It's a way of seeing if the avg and variance stay constant in the long run. "
   ]
  },
  {
   "cell_type": "markdown",
   "metadata": {
    "slideshow": {
     "slide_type": "slide"
    }
   },
   "source": [
    "* The % differences seem to be small (3% for mean and 8% for variance)  \n",
    "* But in the case of the variance it's 15 billion vs 14 billion  \n",
    "* The ARIMA model failed for stationarity when I eventually tried to run it"
   ]
  },
  {
   "cell_type": "code",
   "execution_count": 24,
   "metadata": {
    "slideshow": {
     "slide_type": "skip"
    }
   },
   "outputs": [],
   "source": [
    "from pandas import Series\n",
    "\n",
    "series = df_passenger_cars_decomp\n",
    "X = series.values\n",
    "split = 33\n",
    "X1, X2 = X[0:split], X[split:]\n",
    "mean1, mean2 = X1.mean(), X2.mean()\n",
    "var1, var2 = X1.var(), X2.var()"
   ]
  },
  {
   "cell_type": "code",
   "execution_count": 25,
   "metadata": {
    "slideshow": {
     "slide_type": "-"
    }
   },
   "outputs": [
    {
     "name": "stdout",
     "output_type": "stream",
     "text": [
      "mean1=214667.090909, mean2=207213.878788\n",
      "variance1=15697704021.719006, variance2=14433842867.924702\n",
      "meanDif_pct=0.034720, varDif_pct=0.080512\n"
     ]
    }
   ],
   "source": [
    "print('mean1=%f, mean2=%f' % (mean1, mean2))\n",
    "print('variance1=%f, variance2=%f' % (var1, var2))\n",
    "\n",
    "print('meanDif_pct=%f, varDif_pct=%f' % ((mean1-mean2)/mean1, (var1-var2)/var1))"
   ]
  },
  {
   "cell_type": "markdown",
   "metadata": {
    "slideshow": {
     "slide_type": "subslide"
    }
   },
   "source": [
    "Just as correlation measures the extent of a linear relationship between two variables, autocorrelation measures the linear relationship between lagged values of a time series."
   ]
  },
  {
   "cell_type": "markdown",
   "metadata": {
    "slideshow": {
     "slide_type": "subslide"
    }
   },
   "source": [
    "This is a good starting point for understanding autocorrelation plots:  \n",
    "https://stats.stackexchange.com/questions/101467/how-to-interpret-autocorrelation\n",
    "  \n",
    "Quoting from the article:  \n",
    "...Those plots are showing you the correlation of the series with itself, lagged by x time units. So imagine taking your time series of length T, copying it, and deleting the first observation of copy#1 and the last observation of copy#2. Now you have two series of length T−1 for which you calculate a correlation coefficient. This is the value of of the vertical axis at x=1 in your plots. It represents the correlation of the series lagged by one time unit. You go on and do this for all possible time lags x\n",
    "\n",
    "and this defines the plot.\n",
    "\n",
    "The answer to your question of what is needed to report a pattern is dependent on what pattern you would like to report. But quantitatively speaking, you have exactly what I just described: the correlation coefficient at different lags of the series. You can extract these numerical values by issuing the command..."
   ]
  },
  {
   "cell_type": "markdown",
   "metadata": {
    "slideshow": {
     "slide_type": "-"
    }
   },
   "source": [
    "The correlation coefficient is defined as:  \n",
    "https://www.dummies.com/education/math/statistics/how-to-interpret-a-correlation-coefficient-r/"
   ]
  },
  {
   "cell_type": "code",
   "execution_count": 70,
   "metadata": {
    "slideshow": {
     "slide_type": "skip"
    }
   },
   "outputs": [],
   "source": [
    "from statsmodels.tsa.arima_model import ARIMA\n",
    "import numpy as np\n",
    "import pandas as pd\n",
    "from pandas import DataFrame\n",
    " \n",
    "# fit model with lag=6 (first param), difference order of 1 (second param) and moving avg model of 0 (3rd param)\n",
    "# second param is to make the time series stationary\n",
    "residuals = stl.resid.values"
   ]
  },
  {
   "cell_type": "code",
   "execution_count": 71,
   "metadata": {
    "slideshow": {
     "slide_type": "slide"
    }
   },
   "outputs": [
    {
     "name": "stdout",
     "output_type": "stream",
     "text": [
      "                             ARIMA Model Results                              \n",
      "==============================================================================\n",
      "Dep. Variable:                    D.y   No. Observations:                   65\n",
      "Model:                 ARIMA(6, 1, 0)   Log Likelihood                -713.662\n",
      "Method:                       css-mle   S.D. of innovations          13903.879\n",
      "Date:                Fri, 31 Aug 2018   AIC                           1443.325\n",
      "Time:                        17:27:40   BIC                           1460.720\n",
      "Sample:                             1   HQIC                          1450.188\n",
      "                                                                              \n",
      "==============================================================================\n",
      "                 coef    std err          z      P>|z|      [0.025      0.975]\n",
      "------------------------------------------------------------------------------\n",
      "const       -228.3081    364.018     -0.627      0.533    -941.770     485.154\n",
      "ar.L1.D.y     -1.0924      0.124     -8.790      0.000      -1.336      -0.849\n",
      "ar.L2.D.y     -1.0345      0.178     -5.812      0.000      -1.383      -0.686\n",
      "ar.L3.D.y     -0.7272      0.216     -3.368      0.001      -1.150      -0.304\n",
      "ar.L4.D.y     -0.6212      0.221     -2.808      0.007      -1.055      -0.188\n",
      "ar.L5.D.y     -0.4395      0.196     -2.240      0.029      -0.824      -0.055\n",
      "ar.L6.D.y      0.0127      0.141      0.090      0.928      -0.263       0.289\n",
      "                                    Roots                                    \n",
      "=============================================================================\n",
      "                  Real          Imaginary           Modulus         Frequency\n",
      "-----------------------------------------------------------------------------\n",
      "AR.1           -1.2335           -0.0000j            1.2335           -0.5000\n",
      "AR.2           -0.5998           -0.9142j            1.0934           -0.3424\n",
      "AR.3           -0.5998           +0.9142j            1.0934            0.3424\n",
      "AR.4            0.5144           -1.1036j            1.2176           -0.1806\n",
      "AR.5            0.5144           +1.1036j            1.2176            0.1806\n",
      "AR.6           35.9699           -0.0000j           35.9699           -0.0000\n",
      "-----------------------------------------------------------------------------\n",
      "                  0\n",
      "count     65.000000\n",
      "mean      30.684434\n",
      "std    14036.498401\n",
      "min   -59637.488798\n",
      "25%    -5991.471588\n",
      "50%     -793.900265\n",
      "75%     4171.616239\n",
      "max    78627.122409\n"
     ]
    }
   ],
   "source": [
    "model = ARIMA(residuals, (6,1,0))\n",
    "model_fit = model.fit(disp=0) # turn off debugging statements\n",
    "print(model_fit.summary())\n",
    "\n",
    "# plot residual errors\n",
    "residuals = DataFrame(model_fit.resid)\n",
    "print(residuals.describe())"
   ]
  },
  {
   "cell_type": "code",
   "execution_count": null,
   "metadata": {
    "slideshow": {
     "slide_type": "skip"
    }
   },
   "outputs": [],
   "source": []
  },
  {
   "cell_type": "code",
   "execution_count": 28,
   "metadata": {
    "slideshow": {
     "slide_type": "skip"
    }
   },
   "outputs": [
    {
     "ename": "SyntaxError",
     "evalue": "invalid syntax (<ipython-input-28-864dde3c0a6e>, line 21)",
     "output_type": "error",
     "traceback": [
      "\u001b[0;36m  File \u001b[0;32m\"<ipython-input-28-864dde3c0a6e>\"\u001b[0;36m, line \u001b[0;32m21\u001b[0m\n\u001b[0;31m    )\u001b[0m\n\u001b[0m     ^\u001b[0m\n\u001b[0;31mSyntaxError\u001b[0m\u001b[0;31m:\u001b[0m invalid syntax\n"
     ]
    }
   ],
   "source": [
    "import plotly.plotly as py\n",
    "import plotly.graph_objs as go\n",
    "\n",
    "trace1_observed = go.Scatter(\n",
    "    x = residuals.observed.index,\n",
    "    y = result_additive.observed.values,\n",
    "    xaxis='x',\n",
    "    yaxis='y',\n",
    "    name='trend'\n",
    ")\n",
    "data_observed = [trace1_observed]\n",
    "layout_observed = go.Layout(\n",
    "    autosize=False,\n",
    "    width=800,\n",
    "    height=500,\n",
    "    xaxis=dict(\n",
    "        domain=[0, 1]\n",
    "    ),\n",
    "    yaxis=dict(\n",
    "        domain=[0, 1]\n",
    "    )\n"
   ]
  }
 ],
 "metadata": {
  "celltoolbar": "Slideshow",
  "kernelspec": {
   "display_name": "Python 2",
   "language": "python",
   "name": "python2"
  },
  "language_info": {
   "codemirror_mode": {
    "name": "ipython",
    "version": 2
   },
   "file_extension": ".py",
   "mimetype": "text/x-python",
   "name": "python",
   "nbconvert_exporter": "python",
   "pygments_lexer": "ipython2",
   "version": "2.7.15rc1"
  }
 },
 "nbformat": 4,
 "nbformat_minor": 2
}
